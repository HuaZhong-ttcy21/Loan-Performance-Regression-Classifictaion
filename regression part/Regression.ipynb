{
 "cells": [
  {
   "cell_type": "markdown",
   "metadata": {},
   "source": [
    "# Import Packages and Read Data"
   ]
  },
  {
   "cell_type": "code",
   "execution_count": 1,
   "metadata": {
    "ExecuteTime": {
     "end_time": "2020-12-22T02:34:24.435728Z",
     "start_time": "2020-12-22T02:34:22.879890Z"
    }
   },
   "outputs": [],
   "source": [
    "import numpy as np\n",
    "import pandas as pd\n",
    "import matplotlib.pyplot as plt\n",
    "plt.style.use('seaborn')"
   ]
  },
  {
   "cell_type": "code",
   "execution_count": 292,
   "metadata": {
    "ExecuteTime": {
     "end_time": "2020-12-22T03:50:31.762773Z",
     "start_time": "2020-12-22T03:50:31.083570Z"
    }
   },
   "outputs": [],
   "source": [
    "train = pd.read_csv('TRAIN.csv')"
   ]
  },
  {
   "cell_type": "code",
   "execution_count": 293,
   "metadata": {
    "ExecuteTime": {
     "end_time": "2020-12-22T03:50:31.770756Z",
     "start_time": "2020-12-22T03:50:31.764771Z"
    }
   },
   "outputs": [
    {
     "data": {
      "text/plain": [
       "Index(['LID', 'CHNL', 'SELLER', 'ORIGRATE', 'ORIGUPB', 'ORIGTERM', 'ORIGDATE',\n",
       "       'FSTPAY', 'LOANAGE', 'REMMNTHS', 'ADJRMTHS', 'MATDT', 'OLTV', 'OCLTV',\n",
       "       'NUMBO', 'DTI', 'CSCOREB', 'CSCOREC', 'FIRSTFLAG', 'PURPOSE', 'PROP',\n",
       "       'NO_UNITS', 'OCCSTAT', 'STATE', 'MSA', 'ZIP', 'MIPCT', 'IO',\n",
       "       'DLQSTATUS', 'MODFLAG', 'MITYPE', 'RELMORTGIND', 'ACTPER_MO',\n",
       "       'ORIGDATE_MO', 'FSTPAY_MO', 'MATDT_MO', 'NMONTHS', 'FORCLOSED'],\n",
       "      dtype='object')"
      ]
     },
     "execution_count": 293,
     "metadata": {},
     "output_type": "execute_result"
    }
   ],
   "source": [
    "train.columns"
   ]
  },
  {
   "cell_type": "code",
   "execution_count": 294,
   "metadata": {
    "ExecuteTime": {
     "end_time": "2020-12-22T03:50:31.807196Z",
     "start_time": "2020-12-22T03:50:31.774299Z"
    }
   },
   "outputs": [
    {
     "data": {
      "text/html": [
       "<div>\n",
       "<style scoped>\n",
       "    .dataframe tbody tr th:only-of-type {\n",
       "        vertical-align: middle;\n",
       "    }\n",
       "\n",
       "    .dataframe tbody tr th {\n",
       "        vertical-align: top;\n",
       "    }\n",
       "\n",
       "    .dataframe thead th {\n",
       "        text-align: right;\n",
       "    }\n",
       "</style>\n",
       "<table border=\"1\" class=\"dataframe\">\n",
       "  <thead>\n",
       "    <tr style=\"text-align: right;\">\n",
       "      <th></th>\n",
       "      <th>LID</th>\n",
       "      <th>CHNL</th>\n",
       "      <th>SELLER</th>\n",
       "      <th>ORIGRATE</th>\n",
       "      <th>ORIGUPB</th>\n",
       "      <th>ORIGTERM</th>\n",
       "      <th>ORIGDATE</th>\n",
       "      <th>FSTPAY</th>\n",
       "      <th>LOANAGE</th>\n",
       "      <th>REMMNTHS</th>\n",
       "      <th>...</th>\n",
       "      <th>DLQSTATUS</th>\n",
       "      <th>MODFLAG</th>\n",
       "      <th>MITYPE</th>\n",
       "      <th>RELMORTGIND</th>\n",
       "      <th>ACTPER_MO</th>\n",
       "      <th>ORIGDATE_MO</th>\n",
       "      <th>FSTPAY_MO</th>\n",
       "      <th>MATDT_MO</th>\n",
       "      <th>NMONTHS</th>\n",
       "      <th>FORCLOSED</th>\n",
       "    </tr>\n",
       "  </thead>\n",
       "  <tbody>\n",
       "    <tr>\n",
       "      <th>0</th>\n",
       "      <td>946681740815</td>\n",
       "      <td>B</td>\n",
       "      <td>Jpmorgan Chase Bank, National Association</td>\n",
       "      <td>8.000</td>\n",
       "      <td>100000.0</td>\n",
       "      <td>360</td>\n",
       "      <td>32000</td>\n",
       "      <td>52000</td>\n",
       "      <td>1</td>\n",
       "      <td>359</td>\n",
       "      <td>...</td>\n",
       "      <td>0</td>\n",
       "      <td>N</td>\n",
       "      <td>NaN</td>\n",
       "      <td>N</td>\n",
       "      <td>4</td>\n",
       "      <td>2</td>\n",
       "      <td>4</td>\n",
       "      <td>363</td>\n",
       "      <td>17</td>\n",
       "      <td>False</td>\n",
       "    </tr>\n",
       "    <tr>\n",
       "      <th>1</th>\n",
       "      <td>921089628109</td>\n",
       "      <td>R</td>\n",
       "      <td>Gmac Mortgage, Llc</td>\n",
       "      <td>7.625</td>\n",
       "      <td>100000.0</td>\n",
       "      <td>180</td>\n",
       "      <td>42000</td>\n",
       "      <td>62000</td>\n",
       "      <td>0</td>\n",
       "      <td>180</td>\n",
       "      <td>...</td>\n",
       "      <td>0</td>\n",
       "      <td>N</td>\n",
       "      <td>NaN</td>\n",
       "      <td>N</td>\n",
       "      <td>4</td>\n",
       "      <td>3</td>\n",
       "      <td>5</td>\n",
       "      <td>184</td>\n",
       "      <td>32</td>\n",
       "      <td>False</td>\n",
       "    </tr>\n",
       "    <tr>\n",
       "      <th>2</th>\n",
       "      <td>738779422112</td>\n",
       "      <td>C</td>\n",
       "      <td>Flagstar Bank, Fsb</td>\n",
       "      <td>8.000</td>\n",
       "      <td>226000.0</td>\n",
       "      <td>180</td>\n",
       "      <td>32000</td>\n",
       "      <td>52000</td>\n",
       "      <td>1</td>\n",
       "      <td>179</td>\n",
       "      <td>...</td>\n",
       "      <td>0</td>\n",
       "      <td>N</td>\n",
       "      <td>NaN</td>\n",
       "      <td>N</td>\n",
       "      <td>4</td>\n",
       "      <td>2</td>\n",
       "      <td>4</td>\n",
       "      <td>183</td>\n",
       "      <td>19</td>\n",
       "      <td>False</td>\n",
       "    </tr>\n",
       "    <tr>\n",
       "      <th>3</th>\n",
       "      <td>615798070845</td>\n",
       "      <td>R</td>\n",
       "      <td>Other</td>\n",
       "      <td>8.205</td>\n",
       "      <td>143000.0</td>\n",
       "      <td>360</td>\n",
       "      <td>32000</td>\n",
       "      <td>52000</td>\n",
       "      <td>0</td>\n",
       "      <td>360</td>\n",
       "      <td>...</td>\n",
       "      <td>0</td>\n",
       "      <td>N</td>\n",
       "      <td>NaN</td>\n",
       "      <td>N</td>\n",
       "      <td>3</td>\n",
       "      <td>2</td>\n",
       "      <td>4</td>\n",
       "      <td>363</td>\n",
       "      <td>21</td>\n",
       "      <td>False</td>\n",
       "    </tr>\n",
       "    <tr>\n",
       "      <th>4</th>\n",
       "      <td>345601060557</td>\n",
       "      <td>R</td>\n",
       "      <td>Other</td>\n",
       "      <td>8.500</td>\n",
       "      <td>46000.0</td>\n",
       "      <td>360</td>\n",
       "      <td>32000</td>\n",
       "      <td>52000</td>\n",
       "      <td>0</td>\n",
       "      <td>360</td>\n",
       "      <td>...</td>\n",
       "      <td>0</td>\n",
       "      <td>N</td>\n",
       "      <td>NaN</td>\n",
       "      <td>N</td>\n",
       "      <td>3</td>\n",
       "      <td>2</td>\n",
       "      <td>4</td>\n",
       "      <td>363</td>\n",
       "      <td>17</td>\n",
       "      <td>False</td>\n",
       "    </tr>\n",
       "  </tbody>\n",
       "</table>\n",
       "<p>5 rows × 38 columns</p>\n",
       "</div>"
      ],
      "text/plain": [
       "            LID CHNL                                     SELLER  ORIGRATE  \\\n",
       "0  946681740815    B  Jpmorgan Chase Bank, National Association     8.000   \n",
       "1  921089628109    R                         Gmac Mortgage, Llc     7.625   \n",
       "2  738779422112    C                         Flagstar Bank, Fsb     8.000   \n",
       "3  615798070845    R                                      Other     8.205   \n",
       "4  345601060557    R                                      Other     8.500   \n",
       "\n",
       "    ORIGUPB  ORIGTERM  ORIGDATE  FSTPAY  LOANAGE  REMMNTHS  ...  DLQSTATUS  \\\n",
       "0  100000.0       360     32000   52000        1       359  ...          0   \n",
       "1  100000.0       180     42000   62000        0       180  ...          0   \n",
       "2  226000.0       180     32000   52000        1       179  ...          0   \n",
       "3  143000.0       360     32000   52000        0       360  ...          0   \n",
       "4   46000.0       360     32000   52000        0       360  ...          0   \n",
       "\n",
       "   MODFLAG  MITYPE  RELMORTGIND  ACTPER_MO  ORIGDATE_MO  FSTPAY_MO  MATDT_MO  \\\n",
       "0        N     NaN            N          4            2          4       363   \n",
       "1        N     NaN            N          4            3          5       184   \n",
       "2        N     NaN            N          4            2          4       183   \n",
       "3        N     NaN            N          3            2          4       363   \n",
       "4        N     NaN            N          3            2          4       363   \n",
       "\n",
       "  NMONTHS FORCLOSED  \n",
       "0      17     False  \n",
       "1      32     False  \n",
       "2      19     False  \n",
       "3      21     False  \n",
       "4      17     False  \n",
       "\n",
       "[5 rows x 38 columns]"
      ]
     },
     "execution_count": 294,
     "metadata": {},
     "output_type": "execute_result"
    }
   ],
   "source": [
    "train.head()"
   ]
  },
  {
   "cell_type": "code",
   "execution_count": 295,
   "metadata": {
    "ExecuteTime": {
     "end_time": "2020-12-22T03:50:32.098453Z",
     "start_time": "2020-12-22T03:50:31.810189Z"
    }
   },
   "outputs": [],
   "source": [
    "test = pd.read_csv('TESTPARTIAL.csv')"
   ]
  },
  {
   "cell_type": "markdown",
   "metadata": {},
   "source": [
    "# Feature Pre-processing\n",
    "For this step, I will evaluate features one by one (38 of them) to see the data quality, i.e., the amount of missing values, data imbalance, and so on. Some features will be dropped due to data issues like the large amount of missing values (if more then 50% than I will not use it)."
   ]
  },
  {
   "cell_type": "code",
   "execution_count": 296,
   "metadata": {
    "ExecuteTime": {
     "end_time": "2020-12-22T03:50:32.107393Z",
     "start_time": "2020-12-22T03:50:32.101408Z"
    }
   },
   "outputs": [
    {
     "data": {
      "text/plain": [
       "(200000, 38)"
      ]
     },
     "execution_count": 296,
     "metadata": {},
     "output_type": "execute_result"
    }
   ],
   "source": [
    "train.shape"
   ]
  },
  {
   "cell_type": "code",
   "execution_count": 297,
   "metadata": {
    "ExecuteTime": {
     "end_time": "2020-12-22T03:50:32.396619Z",
     "start_time": "2020-12-22T03:50:32.258988Z"
    }
   },
   "outputs": [
    {
     "data": {
      "text/plain": [
       "LID            0.000000\n",
       "CHNL           0.000000\n",
       "SELLER         0.000000\n",
       "ORIGRATE       0.000000\n",
       "ORIGUPB        0.000000\n",
       "ORIGTERM       0.000000\n",
       "ORIGDATE       0.000000\n",
       "FSTPAY         0.000000\n",
       "LOANAGE        0.000000\n",
       "REMMNTHS       0.000000\n",
       "ADJRMTHS       0.000000\n",
       "MATDT          0.000000\n",
       "OLTV           0.000005\n",
       "OCLTV          0.209125\n",
       "NUMBO          0.000430\n",
       "DTI            0.037555\n",
       "CSCOREB        0.019335\n",
       "CSCOREC        0.520205\n",
       "FIRSTFLAG      0.000560\n",
       "PURPOSE        0.000000\n",
       "PROP           0.000000\n",
       "NO_UNITS       0.000000\n",
       "OCCSTAT        0.000000\n",
       "STATE          0.000000\n",
       "MSA            0.000000\n",
       "ZIP            0.000000\n",
       "MIPCT          0.662730\n",
       "IO             0.972945\n",
       "DLQSTATUS      0.000000\n",
       "MODFLAG        0.000000\n",
       "MITYPE         0.662730\n",
       "RELMORTGIND    0.000000\n",
       "ACTPER_MO      0.000000\n",
       "ORIGDATE_MO    0.000000\n",
       "FSTPAY_MO      0.000000\n",
       "MATDT_MO       0.000000\n",
       "NMONTHS        0.000000\n",
       "FORCLOSED      0.000000\n",
       "dtype: float64"
      ]
     },
     "execution_count": 297,
     "metadata": {},
     "output_type": "execute_result"
    }
   ],
   "source": [
    "train.isnull().sum()/train.shape[0]"
   ]
  },
  {
   "cell_type": "code",
   "execution_count": 298,
   "metadata": {
    "ExecuteTime": {
     "end_time": "2020-12-22T03:50:32.443496Z",
     "start_time": "2020-12-22T03:50:32.432525Z"
    }
   },
   "outputs": [],
   "source": [
    "train_pre = pd.DataFrame(index = train.index)\n",
    "test_pre = pd.DataFrame(index = test.index)"
   ]
  },
  {
   "cell_type": "markdown",
   "metadata": {},
   "source": [
    "### Create two empty dataframes for holding selected features. "
   ]
  },
  {
   "cell_type": "markdown",
   "metadata": {},
   "source": [
    "There are 200,000 different loans with 38 features in total"
   ]
  },
  {
   "cell_type": "markdown",
   "metadata": {},
   "source": [
    "### Feature types holder\n",
    "I will do PCA later and will only apply it on numerical features. These two sets are initialized to contain the labels of each type of features"
   ]
  },
  {
   "cell_type": "code",
   "execution_count": 299,
   "metadata": {
    "ExecuteTime": {
     "end_time": "2020-12-22T03:50:33.083782Z",
     "start_time": "2020-12-22T03:50:33.078803Z"
    }
   },
   "outputs": [],
   "source": [
    "categorical = set()\n",
    "numerical = set()"
   ]
  },
  {
   "cell_type": "markdown",
   "metadata": {},
   "source": [
    "## LID"
   ]
  },
  {
   "cell_type": "code",
   "execution_count": 300,
   "metadata": {
    "ExecuteTime": {
     "end_time": "2020-12-22T03:50:33.435892Z",
     "start_time": "2020-12-22T03:50:33.376030Z"
    }
   },
   "outputs": [
    {
     "data": {
      "text/plain": [
       "200000"
      ]
     },
     "execution_count": 300,
     "metadata": {},
     "output_type": "execute_result"
    }
   ],
   "source": [
    "len(set(train['LID']))"
   ]
  },
  {
   "cell_type": "markdown",
   "metadata": {},
   "source": [
    "There are 200,000 different Loan I.D. in the dataset (of course) so this feature is actually our index."
   ]
  },
  {
   "cell_type": "code",
   "execution_count": 301,
   "metadata": {
    "ExecuteTime": {
     "end_time": "2020-12-22T03:50:33.719378Z",
     "start_time": "2020-12-22T03:50:33.689215Z"
    }
   },
   "outputs": [],
   "source": [
    "train.set_index('LID',inplace = True)\n",
    "test.set_index('LID',inplace = True)"
   ]
  },
  {
   "cell_type": "code",
   "execution_count": 302,
   "metadata": {
    "ExecuteTime": {
     "end_time": "2020-12-22T03:50:33.845006Z",
     "start_time": "2020-12-22T03:50:33.841020Z"
    }
   },
   "outputs": [],
   "source": [
    "train_pre.index = train.index\n",
    "test_pre.index = test.index"
   ]
  },
  {
   "cell_type": "markdown",
   "metadata": {},
   "source": [
    "## CHNL"
   ]
  },
  {
   "cell_type": "code",
   "execution_count": 303,
   "metadata": {
    "ExecuteTime": {
     "end_time": "2020-12-22T03:50:34.191084Z",
     "start_time": "2020-12-22T03:50:34.159167Z"
    }
   },
   "outputs": [
    {
     "data": {
      "text/plain": [
       "3"
      ]
     },
     "execution_count": 303,
     "metadata": {},
     "output_type": "execute_result"
    }
   ],
   "source": [
    "len(set(train['CHNL']))"
   ]
  },
  {
   "cell_type": "code",
   "execution_count": 304,
   "metadata": {
    "ExecuteTime": {
     "end_time": "2020-12-22T03:50:34.398026Z",
     "start_time": "2020-12-22T03:50:34.375088Z"
    }
   },
   "outputs": [
    {
     "data": {
      "text/plain": [
       "{'B', 'C', 'R'}"
      ]
     },
     "execution_count": 304,
     "metadata": {},
     "output_type": "execute_result"
    }
   ],
   "source": [
    "set(train['CHNL'])"
   ]
  },
  {
   "cell_type": "markdown",
   "metadata": {},
   "source": [
    "### There are only three channels in the dataset suggesting us to make it as categorical value! However, we need to drop one those dummy variables to avoid dummpy variable trap!"
   ]
  },
  {
   "cell_type": "code",
   "execution_count": 305,
   "metadata": {
    "ExecuteTime": {
     "end_time": "2020-12-22T03:50:34.736121Z",
     "start_time": "2020-12-22T03:50:34.687253Z"
    }
   },
   "outputs": [],
   "source": [
    "[categorical.add(i) for i in pd.get_dummies(train['CHNL'],prefix = 'CHNL',drop_first=True).columns]\n",
    "train_pre = train_pre.join(pd.get_dummies(train['CHNL'],prefix = 'CHNL',drop_first=True))\n",
    "test_pre = test_pre.join(pd.get_dummies(test['CHNL'], prefix = 'CHNL',drop_first=True)) # Do the same thing for testing data"
   ]
  },
  {
   "cell_type": "markdown",
   "metadata": {},
   "source": [
    "## SELLER"
   ]
  },
  {
   "cell_type": "code",
   "execution_count": 306,
   "metadata": {
    "ExecuteTime": {
     "end_time": "2020-12-22T03:50:35.058778Z",
     "start_time": "2020-12-22T03:50:35.031331Z"
    }
   },
   "outputs": [
    {
     "data": {
      "text/plain": [
       "23"
      ]
     },
     "execution_count": 306,
     "metadata": {},
     "output_type": "execute_result"
    }
   ],
   "source": [
    "len(set(train['SELLER']))"
   ]
  },
  {
   "cell_type": "code",
   "execution_count": 307,
   "metadata": {
    "ExecuteTime": {
     "end_time": "2020-12-22T03:50:35.273701Z",
     "start_time": "2020-12-22T03:50:35.240788Z"
    }
   },
   "outputs": [
    {
     "data": {
      "text/plain": [
       "{'Amtrust Bank',\n",
       " 'Bank Of America, N.A.',\n",
       " 'Bishops Gate Residential Mortgage Trust',\n",
       " 'Citimortgage, Inc.',\n",
       " 'Downey Savings And Loan Association, F.A.',\n",
       " 'First Tennessee Bank National Association',\n",
       " 'Flagstar Bank, Fsb',\n",
       " 'Gmac Mortgage, Llc',\n",
       " 'Harwood Street Funding I, Llc',\n",
       " 'Jp Morgan Chase Bank, Na',\n",
       " 'Jpmorgan Chase Bank, Na',\n",
       " 'Jpmorgan Chase Bank, National Association',\n",
       " 'Netbank Funding Services',\n",
       " 'Old Kent Mortgage Company',\n",
       " 'Other',\n",
       " 'Pnc Bank, N.A.',\n",
       " 'Rbc Mortgage Company',\n",
       " 'Regions Bank',\n",
       " 'Suntrust Mortgage Inc.',\n",
       " 'The Huntington National Bank',\n",
       " 'Usaa Federal Savings Bank',\n",
       " 'Washtenaw Mortgage Company',\n",
       " 'Wells Fargo Bank, N.A.'}"
      ]
     },
     "execution_count": 307,
     "metadata": {},
     "output_type": "execute_result"
    }
   ],
   "source": [
    "set(train['SELLER'])"
   ]
  },
  {
   "cell_type": "code",
   "execution_count": 308,
   "metadata": {
    "ExecuteTime": {
     "end_time": "2020-12-22T03:50:35.420845Z",
     "start_time": "2020-12-22T03:50:35.386971Z"
    }
   },
   "outputs": [
    {
     "data": {
      "text/plain": [
       "SELLER\n",
       "Other                                        48507\n",
       "Jpmorgan Chase Bank, Na                      37789\n",
       "Bank Of America, N.A.                        23312\n",
       "Citimortgage, Inc.                           10997\n",
       "Jpmorgan Chase Bank, National Association     9969\n",
       "Suntrust Mortgage Inc.                        9472\n",
       "Gmac Mortgage, Llc                            8800\n",
       "Bishops Gate Residential Mortgage Trust       7702\n",
       "First Tennessee Bank National Association     6535\n",
       "Flagstar Bank, Fsb                            5998\n",
       "Wells Fargo Bank, N.A.                        5590\n",
       "Amtrust Bank                                  4857\n",
       "Netbank Funding Services                      4668\n",
       "Regions Bank                                  3754\n",
       "Jp Morgan Chase Bank, Na                      3467\n",
       "Usaa Federal Savings Bank                     2275\n",
       "Harwood Street Funding I, Llc                 2032\n",
       "Rbc Mortgage Company                          1785\n",
       "Pnc Bank, N.A.                                 730\n",
       "Washtenaw Mortgage Company                     510\n",
       "The Huntington National Bank                   494\n",
       "Old Kent Mortgage Company                      475\n",
       "Downey Savings And Loan Association, F.A.      282\n",
       "dtype: int64"
      ]
     },
     "execution_count": 308,
     "metadata": {},
     "output_type": "execute_result"
    }
   ],
   "source": [
    "train.value_counts('SELLER')"
   ]
  },
  {
   "cell_type": "markdown",
   "metadata": {},
   "source": [
    "Although I would like to include this feature (categorical; that means I need 23 - 1 = 22 extra columns to hold this), this would increase model complexity and reduce computational speed. In addition, the data is inbalanced; other and JPC donminate this feature. Thus, these features will not be included for ***non-tree model***  (I will use these features with Random Forest)."
   ]
  },
  {
   "cell_type": "code",
   "execution_count": 309,
   "metadata": {
    "ExecuteTime": {
     "end_time": "2020-12-22T03:50:35.726030Z",
     "start_time": "2020-12-22T03:50:35.722039Z"
    }
   },
   "outputs": [],
   "source": [
    "tree_specific = set() # This set is to hold features for tree models (for other models, I will not use these features.)"
   ]
  },
  {
   "cell_type": "code",
   "execution_count": 310,
   "metadata": {
    "ExecuteTime": {
     "end_time": "2020-12-22T03:50:35.969447Z",
     "start_time": "2020-12-22T03:50:35.889659Z"
    }
   },
   "outputs": [],
   "source": [
    "[tree_specific.add(i) for i in pd.get_dummies(train['SELLER'],prefix = 'SELLER',drop_first=True).columns]\n",
    "train_pre = train_pre.join(pd.get_dummies(train['SELLER'],prefix = 'SELLER',drop_first=True))\n",
    "test_pre = test_pre.join(pd.get_dummies(test['SELLER'], prefix = 'SELLER',drop_first=True)) # Do the same thing for testing data"
   ]
  },
  {
   "cell_type": "markdown",
   "metadata": {
    "ExecuteTime": {
     "end_time": "2020-12-21T22:37:16.282599Z",
     "start_time": "2020-12-21T22:37:16.240162Z"
    }
   },
   "source": [
    "### We can see that there are three JP Morgan so I need to modify a little bit."
   ]
  },
  {
   "cell_type": "code",
   "execution_count": 311,
   "metadata": {
    "ExecuteTime": {
     "end_time": "2020-12-22T03:50:36.245707Z",
     "start_time": "2020-12-22T03:50:36.241719Z"
    }
   },
   "outputs": [],
   "source": [
    "JP = ['SELLER_Jpmorgan Chase Bank, Na', 'SELLER_Jpmorgan Chase Bank, National Association', 'SELLER_Jp Morgan Chase Bank, Na']"
   ]
  },
  {
   "cell_type": "code",
   "execution_count": 312,
   "metadata": {
    "ExecuteTime": {
     "end_time": "2020-12-22T03:50:36.456222Z",
     "start_time": "2020-12-22T03:50:36.426301Z"
    }
   },
   "outputs": [],
   "source": [
    "train_pre['SELLER_JP'] = train_pre[JP].sum(axis = 1) # Sum these three columns to one column called \"SELLER_JP\"\n",
    "test_pre['SELLER_JP'] = test_pre[JP].sum(axis = 1)"
   ]
  },
  {
   "cell_type": "code",
   "execution_count": 313,
   "metadata": {
    "ExecuteTime": {
     "end_time": "2020-12-22T03:50:36.810277Z",
     "start_time": "2020-12-22T03:50:36.790214Z"
    }
   },
   "outputs": [],
   "source": [
    "train_pre.drop(columns=JP,inplace=True)\n",
    "test_pre.drop(columns=JP,inplace=True)"
   ]
  },
  {
   "cell_type": "code",
   "execution_count": 314,
   "metadata": {
    "ExecuteTime": {
     "end_time": "2020-12-22T03:50:36.992762Z",
     "start_time": "2020-12-22T03:50:36.987776Z"
    }
   },
   "outputs": [],
   "source": [
    "tree_specific.discard(JP[0])\n",
    "tree_specific.discard(JP[1])\n",
    "tree_specific.discard(JP[2])"
   ]
  },
  {
   "cell_type": "code",
   "execution_count": 315,
   "metadata": {
    "ExecuteTime": {
     "end_time": "2020-12-22T03:50:37.153332Z",
     "start_time": "2020-12-22T03:50:37.149346Z"
    }
   },
   "outputs": [],
   "source": [
    "tree_specific.add('SELLER_JP')"
   ]
  },
  {
   "cell_type": "markdown",
   "metadata": {},
   "source": [
    "## ORIGRATE"
   ]
  },
  {
   "cell_type": "code",
   "execution_count": 316,
   "metadata": {
    "ExecuteTime": {
     "end_time": "2020-12-22T03:50:37.914581Z",
     "start_time": "2020-12-22T03:50:37.706919Z"
    }
   },
   "outputs": [
    {
     "data": {
      "text/plain": [
       "<matplotlib.axes._subplots.AxesSubplot at 0x21029c2a320>"
      ]
     },
     "execution_count": 316,
     "metadata": {},
     "output_type": "execute_result"
    },
    {
     "data": {
      "image/png": "[encoded data removed]",
      "text/plain": [
       "<Figure size 432x288 with 1 Axes>"
      ]
     },
     "metadata": {
      "needs_background": "light"
     },
     "output_type": "display_data"
    }
   ],
   "source": [
    "train['ORIGRATE'].hist(bins = 20)"
   ]
  },
  {
   "cell_type": "markdown",
   "metadata": {},
   "source": [
    "### To remove the effect variance dominating, I will scale this numerical variable. (demean and scale to have standard deviation as 1) <br>It data looks like normal, I will use StandardScaler; otherwise Min-Max Normalization. <br> This feature looks quite normal."
   ]
  },
  {
   "cell_type": "code",
   "execution_count": 317,
   "metadata": {
    "ExecuteTime": {
     "end_time": "2020-12-22T03:50:38.082133Z",
     "start_time": "2020-12-22T03:50:38.077149Z"
    }
   },
   "outputs": [],
   "source": [
    "from sklearn.preprocessing import StandardScaler,MinMaxScaler"
   ]
  },
  {
   "cell_type": "code",
   "execution_count": 318,
   "metadata": {
    "ExecuteTime": {
     "end_time": "2020-12-22T03:50:38.269375Z",
     "start_time": "2020-12-22T03:50:38.265388Z"
    }
   },
   "outputs": [],
   "source": [
    "numerical.add('ORIGRATE')"
   ]
  },
  {
   "cell_type": "code",
   "execution_count": 319,
   "metadata": {
    "ExecuteTime": {
     "end_time": "2020-12-22T03:50:38.476820Z",
     "start_time": "2020-12-22T03:50:38.455908Z"
    }
   },
   "outputs": [],
   "source": [
    "orig_rate_sc = StandardScaler()\n",
    "train_pre['ORIGRATE'] = orig_rate_sc.fit_transform(train['ORIGRATE'].values.reshape(-1,1))\n",
    "test_pre['ORIGRATE'] = orig_rate_sc.transform(test['ORIGRATE'].values.reshape(-1,1)) \n",
    "# Still use the standard scaler fitted by training data! Otherwise, it is not reasonable."
   ]
  },
  {
   "cell_type": "code",
   "execution_count": null,
   "metadata": {},
   "outputs": [],
   "source": []
  },
  {
   "cell_type": "markdown",
   "metadata": {},
   "source": [
    "## ORIGUPB"
   ]
  },
  {
   "cell_type": "code",
   "execution_count": 320,
   "metadata": {
    "ExecuteTime": {
     "end_time": "2020-12-22T03:50:39.594992Z",
     "start_time": "2020-12-22T03:50:39.313747Z"
    }
   },
   "outputs": [
    {
     "data": {
      "text/plain": [
       "<matplotlib.axes._subplots.AxesSubplot at 0x2102bb4f160>"
      ]
     },
     "execution_count": 320,
     "metadata": {},
     "output_type": "execute_result"
    },
    {
     "data": {
      "image/png": "[encoded data removed]",
      "text/plain": [
       "<Figure size 432x288 with 1 Axes>"
      ]
     },
     "metadata": {
      "needs_background": "light"
     },
     "output_type": "display_data"
    }
   ],
   "source": [
    "train['ORIGUPB'].hist(bins = 20)"
   ]
  },
  {
   "cell_type": "code",
   "execution_count": null,
   "metadata": {},
   "outputs": [],
   "source": []
  },
  {
   "cell_type": "markdown",
   "metadata": {},
   "source": [
    "### It is quite skewed so Min-Max"
   ]
  },
  {
   "cell_type": "code",
   "execution_count": 321,
   "metadata": {
    "ExecuteTime": {
     "end_time": "2020-12-22T03:50:40.299213Z",
     "start_time": "2020-12-22T03:50:40.296118Z"
    }
   },
   "outputs": [],
   "source": [
    "numerical.add('ORIGUPB')"
   ]
  },
  {
   "cell_type": "code",
   "execution_count": 322,
   "metadata": {
    "ExecuteTime": {
     "end_time": "2020-12-22T03:50:40.516528Z",
     "start_time": "2020-12-22T03:50:40.498579Z"
    }
   },
   "outputs": [],
   "source": [
    "upb_sc = MinMaxScaler()\n",
    "train_pre['ORIGUPB'] = upb_sc.fit_transform(train['ORIGUPB'].values.reshape(-1,1))\n",
    "test_pre['ORIGUPB'] = upb_sc.transform(test['ORIGUPB'].values.reshape(-1,1)) "
   ]
  },
  {
   "cell_type": "code",
   "execution_count": null,
   "metadata": {},
   "outputs": [],
   "source": []
  },
  {
   "cell_type": "markdown",
   "metadata": {},
   "source": [
    "## ORIGTERM"
   ]
  },
  {
   "cell_type": "markdown",
   "metadata": {
    "ExecuteTime": {
     "end_time": "2020-12-21T07:30:46.820347Z",
     "start_time": "2020-12-21T07:30:46.816357Z"
    }
   },
   "source": [
    "### This feature is quite imbalanced. But I will include it because I think this is related to NMONTHS"
   ]
  },
  {
   "cell_type": "code",
   "execution_count": 323,
   "metadata": {
    "ExecuteTime": {
     "end_time": "2020-12-22T03:50:41.778155Z",
     "start_time": "2020-12-22T03:50:41.482947Z"
    }
   },
   "outputs": [
    {
     "data": {
      "text/plain": [
       "<matplotlib.axes._subplots.AxesSubplot at 0x21032f06e48>"
      ]
     },
     "execution_count": 323,
     "metadata": {},
     "output_type": "execute_result"
    },
    {
     "data": {
      "image/png": "[encoded data removed]",
      "text/plain": [
       "<Figure size 432x288 with 1 Axes>"
      ]
     },
     "metadata": {
      "needs_background": "light"
     },
     "output_type": "display_data"
    }
   ],
   "source": [
    "train['ORIGTERM'].hist(bins = 20)"
   ]
  },
  {
   "cell_type": "code",
   "execution_count": 324,
   "metadata": {
    "ExecuteTime": {
     "end_time": "2020-12-22T03:50:41.785137Z",
     "start_time": "2020-12-22T03:50:41.781147Z"
    }
   },
   "outputs": [],
   "source": [
    "numerical.add('ORIGTERM')"
   ]
  },
  {
   "cell_type": "code",
   "execution_count": 325,
   "metadata": {
    "ExecuteTime": {
     "end_time": "2020-12-22T03:50:41.867915Z",
     "start_time": "2020-12-22T03:50:41.852956Z"
    }
   },
   "outputs": [],
   "source": [
    "term_sc = MinMaxScaler()\n",
    "train_pre['ORIGTERM'] = term_sc.fit_transform(train['ORIGTERM'].values.reshape(-1,1))\n",
    "test_pre['ORIGTERM'] = term_sc.transform(test['ORIGTERM'].values.reshape(-1,1)) "
   ]
  },
  {
   "cell_type": "code",
   "execution_count": null,
   "metadata": {},
   "outputs": [],
   "source": []
  },
  {
   "cell_type": "markdown",
   "metadata": {},
   "source": [
    "##  ORIGDATE and ORIGDATE_MO\n",
    "I will not include these features because I think other features are more important."
   ]
  },
  {
   "cell_type": "code",
   "execution_count": 326,
   "metadata": {
    "ExecuteTime": {
     "end_time": "2020-12-22T03:50:42.431410Z",
     "start_time": "2020-12-22T03:50:42.392513Z"
    }
   },
   "outputs": [
    {
     "data": {
      "text/plain": [
       "{11999,\n",
       " 12000,\n",
       " 21999,\n",
       " 22000,\n",
       " 31999,\n",
       " 32000,\n",
       " 41999,\n",
       " 42000,\n",
       " 51999,\n",
       " 52000,\n",
       " 61999,\n",
       " 62000,\n",
       " 71999,\n",
       " 81999,\n",
       " 91999,\n",
       " 101999,\n",
       " 111999,\n",
       " 121999}"
      ]
     },
     "execution_count": 326,
     "metadata": {},
     "output_type": "execute_result"
    }
   ],
   "source": [
    "set(train['ORIGDATE'])"
   ]
  },
  {
   "cell_type": "code",
   "execution_count": 327,
   "metadata": {
    "ExecuteTime": {
     "end_time": "2020-12-22T03:50:42.636859Z",
     "start_time": "2020-12-22T03:50:42.611925Z"
    }
   },
   "outputs": [
    {
     "data": {
      "text/plain": [
       "{-12, -11, -10, -9, -8, -7, -6, -5, -4, -3, -2, -1, 0, 1, 2, 3, 4, 5}"
      ]
     },
     "execution_count": 327,
     "metadata": {},
     "output_type": "execute_result"
    }
   ],
   "source": [
    "set(train['ORIGDATE_MO'])"
   ]
  },
  {
   "cell_type": "markdown",
   "metadata": {},
   "source": [
    "## FSTPAY\n",
    "I chose not to include this feature (since most of loans have 20,000 difference between FSTPAY and ORIGDATE; although some have negative value (I did not understand why), the majority difference is 20,000)"
   ]
  },
  {
   "cell_type": "code",
   "execution_count": 328,
   "metadata": {
    "ExecuteTime": {
     "end_time": "2020-12-22T03:50:42.929080Z",
     "start_time": "2020-12-22T03:50:42.900155Z"
    }
   },
   "outputs": [
    {
     "data": {
      "text/plain": [
       "{-109999, -99999, -89999, 10000, 20000, 30000}"
      ]
     },
     "execution_count": 328,
     "metadata": {},
     "output_type": "execute_result"
    }
   ],
   "source": [
    "set(train['FSTPAY'] - train['ORIGDATE'])"
   ]
  },
  {
   "cell_type": "code",
   "execution_count": null,
   "metadata": {},
   "outputs": [],
   "source": []
  },
  {
   "cell_type": "markdown",
   "metadata": {},
   "source": [
    "## LOANAGE\n",
    "This feature is inbalanced and I did not fully understand why there was -1.... SO I will drop this."
   ]
  },
  {
   "cell_type": "code",
   "execution_count": 329,
   "metadata": {
    "ExecuteTime": {
     "end_time": "2020-12-22T03:50:43.465156Z",
     "start_time": "2020-12-22T03:50:43.451680Z"
    }
   },
   "outputs": [
    {
     "data": {
      "text/plain": [
       "LOANAGE\n",
       " 0     119178\n",
       " 1      59299\n",
       "-1       9207\n",
       " 2       5780\n",
       " 3       2404\n",
       " 4       1236\n",
       " 5        830\n",
       " 6        607\n",
       " 7        323\n",
       " 8        272\n",
       " 9        189\n",
       " 10       186\n",
       " 11       153\n",
       " 12       122\n",
       " 13        79\n",
       " 14        74\n",
       " 15        33\n",
       " 16        28\n",
       "dtype: int64"
      ]
     },
     "execution_count": 329,
     "metadata": {},
     "output_type": "execute_result"
    }
   ],
   "source": [
    "train.value_counts('LOANAGE')"
   ]
  },
  {
   "cell_type": "code",
   "execution_count": null,
   "metadata": {},
   "outputs": [],
   "source": []
  },
  {
   "cell_type": "markdown",
   "metadata": {},
   "source": [
    "## REMMNTHS"
   ]
  },
  {
   "cell_type": "code",
   "execution_count": 330,
   "metadata": {
    "ExecuteTime": {
     "end_time": "2020-12-22T03:50:44.816081Z",
     "start_time": "2020-12-22T03:50:44.629545Z"
    }
   },
   "outputs": [
    {
     "data": {
      "text/plain": [
       "<matplotlib.axes._subplots.AxesSubplot at 0x21029f5cf98>"
      ]
     },
     "execution_count": 330,
     "metadata": {},
     "output_type": "execute_result"
    },
    {
     "data": {
      "image/png": "[encoded data removed]",
      "text/plain": [
       "<Figure size 432x288 with 1 Axes>"
      ]
     },
     "metadata": {
      "needs_background": "light"
     },
     "output_type": "display_data"
    }
   ],
   "source": [
    "train['REMMNTHS'].hist(bins = 20)"
   ]
  },
  {
   "cell_type": "code",
   "execution_count": 331,
   "metadata": {
    "ExecuteTime": {
     "end_time": "2020-12-22T03:50:44.909831Z",
     "start_time": "2020-12-22T03:50:44.903815Z"
    }
   },
   "outputs": [],
   "source": [
    "numerical.add('REMMNTHS')"
   ]
  },
  {
   "cell_type": "code",
   "execution_count": 332,
   "metadata": {
    "ExecuteTime": {
     "end_time": "2020-12-22T03:50:45.064416Z",
     "start_time": "2020-12-22T03:50:45.054408Z"
    }
   },
   "outputs": [],
   "source": [
    "rm_sc = MinMaxScaler()\n",
    "train_pre['REMMNTHS'] = rm_sc.fit_transform(train['REMMNTHS'].values.reshape(-1,1))\n",
    "test_pre['REMMNTHS'] = rm_sc.transform(test['REMMNTHS'].values.reshape(-1,1))"
   ]
  },
  {
   "cell_type": "code",
   "execution_count": null,
   "metadata": {},
   "outputs": [],
   "source": []
  },
  {
   "cell_type": "markdown",
   "metadata": {},
   "source": [
    "## ADJRMTHS\n",
    "This is close to REMMNTHS, to reduce model complexity and collinearity, I will drop this."
   ]
  },
  {
   "cell_type": "code",
   "execution_count": null,
   "metadata": {},
   "outputs": [],
   "source": []
  },
  {
   "cell_type": "markdown",
   "metadata": {},
   "source": [
    "## MATDT (MATDT_MO will not be included since month is included in this feature)\n",
    "For MATDT, I treat it as numerical: the larger the value, the longer the time to maturity."
   ]
  },
  {
   "cell_type": "code",
   "execution_count": 333,
   "metadata": {
    "ExecuteTime": {
     "end_time": "2020-12-22T03:50:45.986928Z",
     "start_time": "2020-12-22T03:50:45.970932Z"
    }
   },
   "outputs": [
    {
     "data": {
      "text/plain": [
       "LID\n",
       "946681740815   2030-04-01\n",
       "921089628109   2015-05-01\n",
       "738779422112   2015-04-01\n",
       "615798070845   2030-04-01\n",
       "345601060557   2030-04-01\n",
       "Name: MATDT, dtype: datetime64[ns]"
      ]
     },
     "execution_count": 333,
     "metadata": {},
     "output_type": "execute_result"
    }
   ],
   "source": [
    "pd.to_datetime(train['MATDT'],format = '%m%Y').head()"
   ]
  },
  {
   "cell_type": "code",
   "execution_count": 334,
   "metadata": {
    "ExecuteTime": {
     "end_time": "2020-12-22T03:50:46.198385Z",
     "start_time": "2020-12-22T03:50:46.182368Z"
    }
   },
   "outputs": [
    {
     "data": {
      "text/plain": [
       "LID\n",
       "946681740815    1901232000000000000\n",
       "921089628109    1430438400000000000\n",
       "738779422112    1427846400000000000\n",
       "615798070845    1901232000000000000\n",
       "345601060557    1901232000000000000\n",
       "Name: MATDT, dtype: int64"
      ]
     },
     "execution_count": 334,
     "metadata": {},
     "output_type": "execute_result"
    }
   ],
   "source": [
    "pd.to_datetime(train['MATDT'],format = '%m%Y').head().astype(np.int64)"
   ]
  },
  {
   "cell_type": "code",
   "execution_count": 335,
   "metadata": {
    "ExecuteTime": {
     "end_time": "2020-12-22T03:50:46.442734Z",
     "start_time": "2020-12-22T03:50:46.438771Z"
    }
   },
   "outputs": [],
   "source": [
    "numerical.add('MATDT')"
   ]
  },
  {
   "cell_type": "code",
   "execution_count": 336,
   "metadata": {
    "ExecuteTime": {
     "end_time": "2020-12-22T03:50:46.763557Z",
     "start_time": "2020-12-22T03:50:46.730646Z"
    }
   },
   "outputs": [],
   "source": [
    "date_sc = MinMaxScaler()\n",
    "train_pre['MATDT'] = date_sc.fit_transform(pd.to_datetime(train['MATDT'],format = '%m%Y').astype(np.int64).values.reshape(-1,1))\n",
    "test_pre['MATDT'] = date_sc.fit_transform(pd.to_datetime(test['MATDT'],format = '%m%Y').astype(np.int64).values.reshape(-1,1))"
   ]
  },
  {
   "cell_type": "code",
   "execution_count": null,
   "metadata": {},
   "outputs": [],
   "source": []
  },
  {
   "cell_type": "markdown",
   "metadata": {},
   "source": [
    "## OLTV, OCLTV\n",
    "This two features are highly correlated. I think including OCLTV is more reasonable than OLTV since the amount of combined loan is more related to the ability to pay or pre-pay. However, OCLTV has more than 20% missing value will OLTV has much more less so I will include OLTV <br>\n",
    "This feature does not look like normal so Min-Max."
   ]
  },
  {
   "cell_type": "code",
   "execution_count": 337,
   "metadata": {
    "ExecuteTime": {
     "end_time": "2020-12-22T03:50:47.682464Z",
     "start_time": "2020-12-22T03:50:47.668174Z"
    }
   },
   "outputs": [
    {
     "data": {
      "text/plain": [
       "OLTV     0.000005\n",
       "OCLTV    0.209125\n",
       "dtype: float64"
      ]
     },
     "execution_count": 337,
     "metadata": {},
     "output_type": "execute_result"
    }
   ],
   "source": [
    "train[['OLTV','OCLTV']].isnull().sum()/train.shape[0]"
   ]
  },
  {
   "cell_type": "code",
   "execution_count": 338,
   "metadata": {
    "ExecuteTime": {
     "end_time": "2020-12-22T03:50:47.919640Z",
     "start_time": "2020-12-22T03:50:47.915433Z"
    }
   },
   "outputs": [],
   "source": [
    "numerical.add('OLTV')"
   ]
  },
  {
   "cell_type": "code",
   "execution_count": 339,
   "metadata": {
    "ExecuteTime": {
     "end_time": "2020-12-22T03:50:48.500263Z",
     "start_time": "2020-12-22T03:50:48.080373Z"
    }
   },
   "outputs": [
    {
     "data": {
      "text/plain": [
       "<matplotlib.axes._subplots.AxesSubplot at 0x2102b5a0e48>"
      ]
     },
     "execution_count": 339,
     "metadata": {},
     "output_type": "execute_result"
    },
    {
     "data": {
      "image/png": "[encoded data removed]",
      "text/plain": [
       "<Figure size 432x288 with 1 Axes>"
      ]
     },
     "metadata": {
      "needs_background": "light"
     },
     "output_type": "display_data"
    }
   ],
   "source": [
    "train['OLTV'].hist(bins = 20)"
   ]
  },
  {
   "cell_type": "code",
   "execution_count": 340,
   "metadata": {
    "ExecuteTime": {
     "end_time": "2020-12-22T03:50:48.519259Z",
     "start_time": "2020-12-22T03:50:48.504252Z"
    }
   },
   "outputs": [],
   "source": [
    "ratio_sc = MinMaxScaler()\n",
    "train_pre['OLTV'] = ratio_sc.fit_transform(train['OLTV'].values.reshape(-1,1))\n",
    "test_pre['OLTV'] = ratio_sc.transform(test['OLTV'].values.reshape(-1,1))"
   ]
  },
  {
   "cell_type": "code",
   "execution_count": null,
   "metadata": {},
   "outputs": [],
   "source": []
  },
  {
   "cell_type": "markdown",
   "metadata": {},
   "source": [
    "## NUMBO\n",
    "A larger number is likely to have higher paying capibility"
   ]
  },
  {
   "cell_type": "code",
   "execution_count": 341,
   "metadata": {
    "ExecuteTime": {
     "end_time": "2020-12-22T03:50:48.831420Z",
     "start_time": "2020-12-22T03:50:48.812495Z"
    }
   },
   "outputs": [
    {
     "data": {
      "text/plain": [
       "NUMBO\n",
       "2.0     118301\n",
       "1.0      79921\n",
       "3.0       1316\n",
       "4.0        348\n",
       "6.0         12\n",
       "5.0          7\n",
       "8.0          4\n",
       "7.0          4\n",
       "10.0         1\n",
       "dtype: int64"
      ]
     },
     "execution_count": 341,
     "metadata": {},
     "output_type": "execute_result"
    }
   ],
   "source": [
    "train.value_counts('NUMBO')"
   ]
  },
  {
   "cell_type": "code",
   "execution_count": 342,
   "metadata": {
    "ExecuteTime": {
     "end_time": "2020-12-22T03:50:49.052860Z",
     "start_time": "2020-12-22T03:50:49.047875Z"
    }
   },
   "outputs": [],
   "source": [
    "numerical.add('NUMBO')"
   ]
  },
  {
   "cell_type": "code",
   "execution_count": 343,
   "metadata": {
    "ExecuteTime": {
     "end_time": "2020-12-22T03:50:49.204520Z",
     "start_time": "2020-12-22T03:50:49.192512Z"
    }
   },
   "outputs": [],
   "source": [
    "nb_sc = MinMaxScaler()\n",
    "train_pre['NUMBO'] = nb_sc.fit_transform(train['NUMBO'].values.reshape(-1,1))\n",
    "test_pre['NUMBO'] = nb_sc.transform(test['NUMBO'].values.reshape(-1,1))"
   ]
  },
  {
   "cell_type": "code",
   "execution_count": null,
   "metadata": {},
   "outputs": [],
   "source": []
  },
  {
   "cell_type": "markdown",
   "metadata": {
    "ExecuteTime": {
     "end_time": "2020-12-21T08:08:20.786089Z",
     "start_time": "2020-12-21T08:08:20.780105Z"
    }
   },
   "source": [
    "## DTI\n",
    "This is a very important feature (I think!)"
   ]
  },
  {
   "cell_type": "code",
   "execution_count": 344,
   "metadata": {
    "ExecuteTime": {
     "end_time": "2020-12-22T03:50:49.774446Z",
     "start_time": "2020-12-22T03:50:49.766468Z"
    }
   },
   "outputs": [
    {
     "data": {
      "text/plain": [
       "LID\n",
       "946681740815    19.0\n",
       "921089628109    35.0\n",
       "738779422112    42.0\n",
       "615798070845    33.0\n",
       "345601060557    21.0\n",
       "                ... \n",
       "562335400010    35.0\n",
       "151011432193    46.0\n",
       "517753415065    53.0\n",
       "948158851357    18.0\n",
       "603343045348    59.0\n",
       "Name: DTI, Length: 200000, dtype: float64"
      ]
     },
     "execution_count": 344,
     "metadata": {},
     "output_type": "execute_result"
    }
   ],
   "source": [
    "train['DTI']"
   ]
  },
  {
   "cell_type": "code",
   "execution_count": 345,
   "metadata": {
    "ExecuteTime": {
     "end_time": "2020-12-22T03:50:49.985880Z",
     "start_time": "2020-12-22T03:50:49.980894Z"
    }
   },
   "outputs": [],
   "source": [
    "numerical.add('DTI')"
   ]
  },
  {
   "cell_type": "code",
   "execution_count": 346,
   "metadata": {
    "ExecuteTime": {
     "end_time": "2020-12-22T03:50:50.160415Z",
     "start_time": "2020-12-22T03:50:50.148447Z"
    }
   },
   "outputs": [],
   "source": [
    "dti_sc = MinMaxScaler()\n",
    "train_pre['DTI'] = dti_sc.fit_transform(train['DTI'].values.reshape(-1,1))\n",
    "test_pre['DTI'] = dti_sc.transform(test['DTI'].values.reshape(-1,1))"
   ]
  },
  {
   "cell_type": "code",
   "execution_count": null,
   "metadata": {},
   "outputs": [],
   "source": []
  },
  {
   "cell_type": "markdown",
   "metadata": {
    "ExecuteTime": {
     "end_time": "2020-12-21T08:11:18.130399Z",
     "start_time": "2020-12-21T08:11:18.125374Z"
    }
   },
   "source": [
    "## CSCOREB, CSCOREC\n",
    "CSCOREC has more missing values, so I will use CSCOREB"
   ]
  },
  {
   "cell_type": "code",
   "execution_count": 347,
   "metadata": {
    "ExecuteTime": {
     "end_time": "2020-12-22T03:50:50.769772Z",
     "start_time": "2020-12-22T03:50:50.759783Z"
    }
   },
   "outputs": [
    {
     "data": {
      "text/plain": [
       "CSCOREB      3867\n",
       "CSCOREC    104041\n",
       "dtype: int64"
      ]
     },
     "execution_count": 347,
     "metadata": {},
     "output_type": "execute_result"
    }
   ],
   "source": [
    "train[['CSCOREB', 'CSCOREC']].isnull().sum()"
   ]
  },
  {
   "cell_type": "code",
   "execution_count": 348,
   "metadata": {
    "ExecuteTime": {
     "end_time": "2020-12-22T03:50:51.094889Z",
     "start_time": "2020-12-22T03:50:51.090926Z"
    }
   },
   "outputs": [],
   "source": [
    "numerical.add('CSCOREB')"
   ]
  },
  {
   "cell_type": "code",
   "execution_count": 349,
   "metadata": {
    "ExecuteTime": {
     "end_time": "2020-12-22T03:50:51.631100Z",
     "start_time": "2020-12-22T03:50:51.619626Z"
    }
   },
   "outputs": [],
   "source": [
    "score_sc = MinMaxScaler()\n",
    "train_pre['CSCOREB'] = score_sc.fit_transform(train['CSCOREB'].values.reshape(-1,1))\n",
    "test_pre['CSCOREB'] = score_sc.transform(test['CSCOREB'].values.reshape(-1,1))"
   ]
  },
  {
   "cell_type": "code",
   "execution_count": null,
   "metadata": {},
   "outputs": [],
   "source": []
  },
  {
   "cell_type": "markdown",
   "metadata": {},
   "source": [
    "## FIRSTFLAG\n",
    "Although this feature is imbalance, I will include it for now and see the importance later."
   ]
  },
  {
   "cell_type": "code",
   "execution_count": 350,
   "metadata": {
    "ExecuteTime": {
     "end_time": "2020-12-22T03:50:52.212953Z",
     "start_time": "2020-12-22T03:50:52.190976Z"
    }
   },
   "outputs": [
    {
     "data": {
      "text/plain": [
       "FIRSTFLAG\n",
       "N    163845\n",
       "Y     36043\n",
       "dtype: int64"
      ]
     },
     "execution_count": 350,
     "metadata": {},
     "output_type": "execute_result"
    }
   ],
   "source": [
    "train.value_counts('FIRSTFLAG')"
   ]
  },
  {
   "cell_type": "code",
   "execution_count": 351,
   "metadata": {
    "ExecuteTime": {
     "end_time": "2020-12-22T03:50:52.402412Z",
     "start_time": "2020-12-22T03:50:52.397425Z"
    }
   },
   "outputs": [],
   "source": [
    "categorical.add('FIRSTFLAG')"
   ]
  },
  {
   "cell_type": "code",
   "execution_count": 352,
   "metadata": {
    "ExecuteTime": {
     "end_time": "2020-12-22T03:50:52.606892Z",
     "start_time": "2020-12-22T03:50:52.572993Z"
    }
   },
   "outputs": [],
   "source": [
    "train_pre['FIRSTFLAG'] = pd.get_dummies(train['FIRSTFLAG'],drop_first=True)\n",
    "test_pre['FIRSTFLAG'] = pd.get_dummies(test['FIRSTFLAG'],drop_first=True)"
   ]
  },
  {
   "cell_type": "markdown",
   "metadata": {
    "ExecuteTime": {
     "end_time": "2020-12-21T08:29:54.870940Z",
     "start_time": "2020-12-21T08:29:54.864958Z"
    }
   },
   "source": [
    "## PURPOSE\n",
    "Purpose is important for finacing so I will include this."
   ]
  },
  {
   "cell_type": "code",
   "execution_count": 353,
   "metadata": {
    "ExecuteTime": {
     "end_time": "2020-12-22T03:50:52.990874Z",
     "start_time": "2020-12-22T03:50:52.971888Z"
    }
   },
   "outputs": [
    {
     "data": {
      "text/plain": [
       "PURPOSE\n",
       "P    144552\n",
       "C     30356\n",
       "R     25088\n",
       "U         4\n",
       "dtype: int64"
      ]
     },
     "execution_count": 353,
     "metadata": {},
     "output_type": "execute_result"
    }
   ],
   "source": [
    "train.value_counts('PURPOSE')"
   ]
  },
  {
   "cell_type": "markdown",
   "metadata": {},
   "source": [
    "### We should drop purpose U since only 4 examples and no example in test data"
   ]
  },
  {
   "cell_type": "code",
   "execution_count": 354,
   "metadata": {
    "ExecuteTime": {
     "end_time": "2020-12-22T03:50:53.651108Z",
     "start_time": "2020-12-22T03:50:53.484518Z"
    }
   },
   "outputs": [],
   "source": [
    "train = train[train['PURPOSE'] != 'U']\n",
    "train_pre = train_pre.loc[train.index,:]"
   ]
  },
  {
   "cell_type": "code",
   "execution_count": null,
   "metadata": {},
   "outputs": [],
   "source": []
  },
  {
   "cell_type": "code",
   "execution_count": 355,
   "metadata": {
    "ExecuteTime": {
     "end_time": "2020-12-22T03:50:54.089088Z",
     "start_time": "2020-12-22T03:50:54.022137Z"
    }
   },
   "outputs": [],
   "source": [
    "[categorical.add(i) for i in pd.get_dummies(train['PURPOSE'],prefix = 'PURPOSE',drop_first=True).columns]\n",
    "train_pre = train_pre.join(pd.get_dummies(train['PURPOSE'],prefix = 'PURPOSE',drop_first=True))\n",
    "test_pre = test_pre.join(pd.get_dummies(test['PURPOSE'], prefix = 'PURPOSE',drop_first=True)) # Do the same thing for testing data"
   ]
  },
  {
   "cell_type": "markdown",
   "metadata": {},
   "source": [
    "## PROP"
   ]
  },
  {
   "cell_type": "code",
   "execution_count": 356,
   "metadata": {
    "ExecuteTime": {
     "end_time": "2020-12-22T03:50:54.436144Z",
     "start_time": "2020-12-22T03:50:54.410195Z"
    }
   },
   "outputs": [
    {
     "data": {
      "text/plain": [
       "PROP\n",
       "SF    169041\n",
       "PU     14679\n",
       "CO     13753\n",
       "MH      1468\n",
       "CP      1055\n",
       "dtype: int64"
      ]
     },
     "execution_count": 356,
     "metadata": {},
     "output_type": "execute_result"
    }
   ],
   "source": [
    "train.value_counts('PROP')"
   ]
  },
  {
   "cell_type": "code",
   "execution_count": 357,
   "metadata": {
    "ExecuteTime": {
     "end_time": "2020-12-22T03:50:54.654560Z",
     "start_time": "2020-12-22T03:50:54.582753Z"
    }
   },
   "outputs": [],
   "source": [
    "[categorical.add(i) for i in pd.get_dummies(train['PROP'],prefix = 'PROP',drop_first=True).columns]\n",
    "train_pre = train_pre.join(pd.get_dummies(train['PROP'],prefix = 'PROP',drop_first=True))\n",
    "test_pre = test_pre.join(pd.get_dummies(test['PROP'], prefix = 'PROP',drop_first=True)) # Do the same thing for testing data"
   ]
  },
  {
   "cell_type": "markdown",
   "metadata": {
    "ExecuteTime": {
     "end_time": "2020-12-21T08:33:31.273691Z",
     "start_time": "2020-12-21T08:33:31.268731Z"
    }
   },
   "source": [
    "## NO_UNITS\n",
    "I will treat this number as numerical even though only four values are given because I will the number (value) is probably indicative. If not important, I will exclude it later."
   ]
  },
  {
   "cell_type": "code",
   "execution_count": 358,
   "metadata": {
    "ExecuteTime": {
     "end_time": "2020-12-22T03:50:55.088402Z",
     "start_time": "2020-12-22T03:50:55.068457Z"
    }
   },
   "outputs": [
    {
     "data": {
      "text/plain": [
       "NO_UNITS\n",
       "1    194557\n",
       "2      4398\n",
       "3       603\n",
       "4       438\n",
       "dtype: int64"
      ]
     },
     "execution_count": 358,
     "metadata": {},
     "output_type": "execute_result"
    }
   ],
   "source": [
    "train.value_counts('NO_UNITS')"
   ]
  },
  {
   "cell_type": "code",
   "execution_count": 359,
   "metadata": {
    "ExecuteTime": {
     "end_time": "2020-12-22T03:50:55.363199Z",
     "start_time": "2020-12-22T03:50:55.359675Z"
    }
   },
   "outputs": [],
   "source": [
    "numerical.add('NO_UNITS')"
   ]
  },
  {
   "cell_type": "code",
   "execution_count": 360,
   "metadata": {
    "ExecuteTime": {
     "end_time": "2020-12-22T03:50:55.565128Z",
     "start_time": "2020-12-22T03:50:55.546177Z"
    }
   },
   "outputs": [],
   "source": [
    "nn_sc = MinMaxScaler()\n",
    "train_pre['NO_UNITS'] = nn_sc.fit_transform(train['NO_UNITS'].values.reshape(-1,1))\n",
    "test_pre['NO_UNITS'] = nn_sc.transform(test['NO_UNITS'].values.reshape(-1,1))"
   ]
  },
  {
   "cell_type": "code",
   "execution_count": null,
   "metadata": {},
   "outputs": [],
   "source": []
  },
  {
   "cell_type": "markdown",
   "metadata": {},
   "source": [
    "## OCCSTAT\n",
    "I will include this feature."
   ]
  },
  {
   "cell_type": "code",
   "execution_count": 361,
   "metadata": {
    "ExecuteTime": {
     "end_time": "2020-12-22T03:50:56.453752Z",
     "start_time": "2020-12-22T03:50:56.422832Z"
    }
   },
   "outputs": [
    {
     "data": {
      "text/plain": [
       "OCCSTAT\n",
       "P    183530\n",
       "I      8975\n",
       "S      7491\n",
       "dtype: int64"
      ]
     },
     "execution_count": 361,
     "metadata": {},
     "output_type": "execute_result"
    }
   ],
   "source": [
    "train.value_counts('OCCSTAT')"
   ]
  },
  {
   "cell_type": "code",
   "execution_count": 362,
   "metadata": {
    "ExecuteTime": {
     "end_time": "2020-12-22T03:50:56.792842Z",
     "start_time": "2020-12-22T03:50:56.702085Z"
    }
   },
   "outputs": [],
   "source": [
    "[categorical.add(i) for i in pd.get_dummies(train['OCCSTAT'],prefix = 'OCCSTAT',drop_first=True).columns]\n",
    "train_pre = train_pre.join(pd.get_dummies(train['OCCSTAT'],prefix = 'OCCSTAT',drop_first=True))\n",
    "test_pre = test_pre.join(pd.get_dummies(test['OCCSTAT'], prefix = 'OCCSTAT',drop_first=True)) # Do the same thing for testing data"
   ]
  },
  {
   "cell_type": "markdown",
   "metadata": {
    "ExecuteTime": {
     "end_time": "2020-12-21T08:39:36.971679Z",
     "start_time": "2020-12-21T08:39:36.966693Z"
    }
   },
   "source": [
    "## Geographical: MSA and ZIP\n",
    "I will not include them since they are categorical and their dimension is large (increase model complexity and decrease computational speed significantly). If treat them as numerical, it is not reasonable because magnitude does not matter. "
   ]
  },
  {
   "cell_type": "code",
   "execution_count": 363,
   "metadata": {
    "ExecuteTime": {
     "end_time": "2020-12-22T03:50:57.149888Z",
     "start_time": "2020-12-22T03:50:57.124958Z"
    }
   },
   "outputs": [
    {
     "data": {
      "text/plain": [
       "MSA\n",
       "0        22240\n",
       "35620     9039\n",
       "16980     7638\n",
       "33100     6101\n",
       "31100     5559\n",
       "         ...  \n",
       "49500        6\n",
       "14100        5\n",
       "15680        5\n",
       "47460        4\n",
       "21420        2\n",
       "Length: 406, dtype: int64"
      ]
     },
     "execution_count": 363,
     "metadata": {},
     "output_type": "execute_result"
    }
   ],
   "source": [
    "train.value_counts('MSA')"
   ]
  },
  {
   "cell_type": "code",
   "execution_count": null,
   "metadata": {},
   "outputs": [],
   "source": []
  },
  {
   "cell_type": "markdown",
   "metadata": {},
   "source": [
    "## IO\n",
    "I will drop this feature because of too many missing values."
   ]
  },
  {
   "cell_type": "code",
   "execution_count": 364,
   "metadata": {
    "ExecuteTime": {
     "end_time": "2020-12-22T03:50:57.720055Z",
     "start_time": "2020-12-22T03:50:57.714036Z"
    }
   },
   "outputs": [
    {
     "data": {
      "text/plain": [
       "LID\n",
       "946681740815    NaN\n",
       "921089628109    NaN\n",
       "738779422112    NaN\n",
       "615798070845    NaN\n",
       "345601060557    NaN\n",
       "               ... \n",
       "562335400010    NaN\n",
       "151011432193    NaN\n",
       "517753415065    NaN\n",
       "948158851357    NaN\n",
       "603343045348    NaN\n",
       "Name: IO, Length: 199996, dtype: object"
      ]
     },
     "execution_count": 364,
     "metadata": {},
     "output_type": "execute_result"
    }
   ],
   "source": [
    "train['IO']"
   ]
  },
  {
   "cell_type": "code",
   "execution_count": null,
   "metadata": {},
   "outputs": [],
   "source": []
  },
  {
   "cell_type": "markdown",
   "metadata": {},
   "source": [
    "## DLQSTATUS\n",
    "This feature is very imbalanced so I will not include it."
   ]
  },
  {
   "cell_type": "code",
   "execution_count": 365,
   "metadata": {
    "ExecuteTime": {
     "end_time": "2020-12-22T03:50:58.447635Z",
     "start_time": "2020-12-22T03:50:58.434671Z"
    }
   },
   "outputs": [
    {
     "data": {
      "text/plain": [
       "DLQSTATUS\n",
       "0    199689\n",
       "1       301\n",
       "2         4\n",
       "4         1\n",
       "3         1\n",
       "dtype: int64"
      ]
     },
     "execution_count": 365,
     "metadata": {},
     "output_type": "execute_result"
    }
   ],
   "source": [
    "train.value_counts('DLQSTATUS')"
   ]
  },
  {
   "cell_type": "code",
   "execution_count": null,
   "metadata": {},
   "outputs": [],
   "source": []
  },
  {
   "cell_type": "markdown",
   "metadata": {},
   "source": [
    "## MODFLAG\n",
    "This feature makes no difference so I will not include it."
   ]
  },
  {
   "cell_type": "code",
   "execution_count": 366,
   "metadata": {
    "ExecuteTime": {
     "end_time": "2020-12-22T03:50:59.567210Z",
     "start_time": "2020-12-22T03:50:59.549222Z"
    }
   },
   "outputs": [
    {
     "data": {
      "text/plain": [
       "MODFLAG\n",
       "N    199996\n",
       "dtype: int64"
      ]
     },
     "execution_count": 366,
     "metadata": {},
     "output_type": "execute_result"
    }
   ],
   "source": [
    "train.value_counts('MODFLAG')"
   ]
  },
  {
   "cell_type": "code",
   "execution_count": null,
   "metadata": {},
   "outputs": [],
   "source": []
  },
  {
   "cell_type": "markdown",
   "metadata": {},
   "source": [
    "## MITYPE\n",
    "It has many missing values so I will drop it."
   ]
  },
  {
   "cell_type": "code",
   "execution_count": 367,
   "metadata": {
    "ExecuteTime": {
     "end_time": "2020-12-22T03:51:01.392520Z",
     "start_time": "2020-12-22T03:51:01.387489Z"
    }
   },
   "outputs": [
    {
     "data": {
      "text/plain": [
       "132543"
      ]
     },
     "execution_count": 367,
     "metadata": {},
     "output_type": "execute_result"
    }
   ],
   "source": [
    "train['MITYPE'].isnull().sum()"
   ]
  },
  {
   "cell_type": "code",
   "execution_count": null,
   "metadata": {},
   "outputs": [],
   "source": []
  },
  {
   "cell_type": "markdown",
   "metadata": {},
   "source": [
    "## RELMORTGIND\n",
    "This feature is very imbalanced so I will not use it."
   ]
  },
  {
   "cell_type": "code",
   "execution_count": 368,
   "metadata": {
    "ExecuteTime": {
     "end_time": "2020-12-22T03:51:02.480547Z",
     "start_time": "2020-12-22T03:51:02.458587Z"
    }
   },
   "outputs": [
    {
     "data": {
      "text/plain": [
       "RELMORTGIND\n",
       "N    198702\n",
       "Y      1294\n",
       "dtype: int64"
      ]
     },
     "execution_count": 368,
     "metadata": {},
     "output_type": "execute_result"
    }
   ],
   "source": [
    "train.value_counts('RELMORTGIND')"
   ]
  },
  {
   "cell_type": "markdown",
   "metadata": {},
   "source": [
    "## ACTPER_MO\n",
    "I will not include this feature because I think it is less relevant."
   ]
  },
  {
   "cell_type": "code",
   "execution_count": null,
   "metadata": {},
   "outputs": [],
   "source": []
  },
  {
   "cell_type": "markdown",
   "metadata": {},
   "source": [
    "## Adding variables that need to predict"
   ]
  },
  {
   "cell_type": "code",
   "execution_count": 369,
   "metadata": {
    "ExecuteTime": {
     "end_time": "2020-12-22T03:51:03.669656Z",
     "start_time": "2020-12-22T03:51:03.662169Z"
    }
   },
   "outputs": [],
   "source": [
    "train_pre['regression'] = train['NMONTHS']\n",
    "train_pre['classfication'] = train['FORCLOSED']"
   ]
  },
  {
   "cell_type": "code",
   "execution_count": null,
   "metadata": {},
   "outputs": [],
   "source": []
  },
  {
   "cell_type": "markdown",
   "metadata": {},
   "source": [
    "## Missing Values\n",
    "Since the numbers of missing values of my pre-selected features are not high, I use training data mean to fill both training and testing's missing rows for those features."
   ]
  },
  {
   "cell_type": "code",
   "execution_count": 370,
   "metadata": {
    "ExecuteTime": {
     "end_time": "2020-12-22T03:51:08.497575Z",
     "start_time": "2020-12-22T03:51:08.466624Z"
    }
   },
   "outputs": [
    {
     "data": {
      "text/plain": [
       "CHNL_C                                                 0\n",
       "CHNL_R                                                 0\n",
       "SELLER_Bank Of America, N.A.                           0\n",
       "SELLER_Bishops Gate Residential Mortgage Trust         0\n",
       "SELLER_Citimortgage, Inc.                              0\n",
       "SELLER_Downey Savings And Loan Association, F.A.       0\n",
       "SELLER_First Tennessee Bank National Association       0\n",
       "SELLER_Flagstar Bank, Fsb                              0\n",
       "SELLER_Gmac Mortgage, Llc                              0\n",
       "SELLER_Harwood Street Funding I, Llc                   0\n",
       "SELLER_Netbank Funding Services                        0\n",
       "SELLER_Old Kent Mortgage Company                       0\n",
       "SELLER_Other                                           0\n",
       "SELLER_Pnc Bank, N.A.                                  0\n",
       "SELLER_Rbc Mortgage Company                            0\n",
       "SELLER_Regions Bank                                    0\n",
       "SELLER_Suntrust Mortgage Inc.                          0\n",
       "SELLER_The Huntington National Bank                    0\n",
       "SELLER_Usaa Federal Savings Bank                       0\n",
       "SELLER_Washtenaw Mortgage Company                      0\n",
       "SELLER_Wells Fargo Bank, N.A.                          0\n",
       "SELLER_JP                                              0\n",
       "ORIGRATE                                               0\n",
       "ORIGUPB                                                0\n",
       "ORIGTERM                                               0\n",
       "REMMNTHS                                               0\n",
       "MATDT                                                  0\n",
       "OLTV                                                   1\n",
       "NUMBO                                                 86\n",
       "DTI                                                 7511\n",
       "CSCOREB                                             3867\n",
       "FIRSTFLAG                                              0\n",
       "PURPOSE_P                                              0\n",
       "PURPOSE_R                                              0\n",
       "PROP_CP                                                0\n",
       "PROP_MH                                                0\n",
       "PROP_PU                                                0\n",
       "PROP_SF                                                0\n",
       "NO_UNITS                                               0\n",
       "OCCSTAT_P                                              0\n",
       "OCCSTAT_S                                              0\n",
       "regression                                             0\n",
       "classfication                                          0\n",
       "dtype: int64"
      ]
     },
     "execution_count": 370,
     "metadata": {},
     "output_type": "execute_result"
    }
   ],
   "source": [
    "train_pre.isnull().sum()"
   ]
  },
  {
   "cell_type": "code",
   "execution_count": 371,
   "metadata": {
    "ExecuteTime": {
     "end_time": "2020-12-22T03:51:09.288288Z",
     "start_time": "2020-12-22T03:51:09.272808Z"
    }
   },
   "outputs": [],
   "source": [
    "train_pre['OLTV'].fillna(value = train_pre['OLTV'].dropna().mean(),inplace = True)\n",
    "test_pre['OLTV'].fillna(value = train_pre['OLTV'].dropna().mean(),inplace = True)"
   ]
  },
  {
   "cell_type": "code",
   "execution_count": 372,
   "metadata": {
    "ExecuteTime": {
     "end_time": "2020-12-22T03:51:09.715353Z",
     "start_time": "2020-12-22T03:51:09.699361Z"
    }
   },
   "outputs": [],
   "source": [
    "train_pre['NUMBO'].fillna(value = train_pre['NUMBO'].dropna().mean(),inplace = True)\n",
    "test_pre['NUMBO'].fillna(value = train_pre['NUMBO'].dropna().mean(),inplace = True)"
   ]
  },
  {
   "cell_type": "code",
   "execution_count": 373,
   "metadata": {
    "ExecuteTime": {
     "end_time": "2020-12-22T03:51:10.094018Z",
     "start_time": "2020-12-22T03:51:10.076531Z"
    }
   },
   "outputs": [],
   "source": [
    "train_pre['DTI'].fillna(value = train_pre['DTI'].dropna().mean(),inplace = True)\n",
    "test_pre['DTI'].fillna(value = train_pre['DTI'].dropna().mean(),inplace = True)"
   ]
  },
  {
   "cell_type": "code",
   "execution_count": 374,
   "metadata": {
    "ExecuteTime": {
     "end_time": "2020-12-22T03:51:10.341363Z",
     "start_time": "2020-12-22T03:51:10.323421Z"
    }
   },
   "outputs": [],
   "source": [
    "train_pre['CSCOREB'].fillna(value = train_pre['DTI'].dropna().mean(),inplace = True)\n",
    "test_pre['CSCOREB'].fillna(value = train_pre['DTI'].dropna().mean(),inplace = True)"
   ]
  },
  {
   "cell_type": "markdown",
   "metadata": {},
   "source": [
    "# NMONTHS"
   ]
  },
  {
   "cell_type": "markdown",
   "metadata": {},
   "source": [
    "I commented codes for cross_validation because it is gonna take \"forever\" to run. I create a regressor with best parameters for each for you to evaluate!"
   ]
  },
  {
   "cell_type": "markdown",
   "metadata": {},
   "source": [
    "## Models\n",
    "- Linear Regression\n",
    "- LASSO (I will only use LASSO here because I want to see whether some coefficients will be pushed to 0; Ridge not included)\n",
    "- SVM\n",
    "- Random Forests\n",
    "- Best predictor (among the above four models) with PCA (to see whether PCA will improve the model further)"
   ]
  },
  {
   "cell_type": "markdown",
   "metadata": {},
   "source": [
    "### Summary List\n",
    "This list is created for saving model result and for later comparison."
   ]
  },
  {
   "cell_type": "code",
   "execution_count": 174,
   "metadata": {
    "ExecuteTime": {
     "end_time": "2020-12-22T03:30:30.271596Z",
     "start_time": "2020-12-22T03:30:30.268454Z"
    }
   },
   "outputs": [],
   "source": [
    "Reg_Models = [] #Model Name\n",
    "Reg_Models_Params = [] #Model's best parameters by cross-validation\n",
    "Reg_Models_MAE = [] #Mean Absolute Error by the model with best parameters"
   ]
  },
  {
   "cell_type": "code",
   "execution_count": 83,
   "metadata": {
    "ExecuteTime": {
     "end_time": "2020-12-22T02:35:14.501419Z",
     "start_time": "2020-12-22T02:35:14.425944Z"
    }
   },
   "outputs": [],
   "source": [
    "from sklearn.metrics import SCORERS"
   ]
  },
  {
   "cell_type": "code",
   "execution_count": 84,
   "metadata": {
    "ExecuteTime": {
     "end_time": "2020-12-22T02:35:15.314743Z",
     "start_time": "2020-12-22T02:35:15.308762Z"
    }
   },
   "outputs": [
    {
     "data": {
      "text/plain": [
       "dict_keys(['explained_variance', 'r2', 'max_error', 'neg_median_absolute_error', 'neg_mean_absolute_error', 'neg_mean_squared_error', 'neg_mean_squared_log_error', 'neg_root_mean_squared_error', 'neg_mean_poisson_deviance', 'neg_mean_gamma_deviance', 'accuracy', 'roc_auc', 'roc_auc_ovr', 'roc_auc_ovo', 'roc_auc_ovr_weighted', 'roc_auc_ovo_weighted', 'balanced_accuracy', 'average_precision', 'neg_log_loss', 'neg_brier_score', 'adjusted_rand_score', 'homogeneity_score', 'completeness_score', 'v_measure_score', 'mutual_info_score', 'adjusted_mutual_info_score', 'normalized_mutual_info_score', 'fowlkes_mallows_score', 'precision', 'precision_macro', 'precision_micro', 'precision_samples', 'precision_weighted', 'recall', 'recall_macro', 'recall_micro', 'recall_samples', 'recall_weighted', 'f1', 'f1_macro', 'f1_micro', 'f1_samples', 'f1_weighted', 'jaccard', 'jaccard_macro', 'jaccard_micro', 'jaccard_samples', 'jaccard_weighted'])"
      ]
     },
     "execution_count": 84,
     "metadata": {},
     "output_type": "execute_result"
    }
   ],
   "source": [
    "SCORERS.keys()"
   ]
  },
  {
   "cell_type": "markdown",
   "metadata": {},
   "source": [
    "## Linear Regression as a Benchmark\n",
    "I used GridSearch function to do cross-validation (with ***KFold = 5***) for all the models. The best parameters of each model is selected by ***Minimizing Mean Absolute Error (Maximizing Negative Mean Absolute Error)***. "
   ]
  },
  {
   "cell_type": "code",
   "execution_count": 85,
   "metadata": {
    "ExecuteTime": {
     "end_time": "2020-12-22T02:35:16.629806Z",
     "start_time": "2020-12-22T02:35:16.390419Z"
    }
   },
   "outputs": [],
   "source": [
    "from sklearn.linear_model import LinearRegression\n",
    "from sklearn.model_selection import GridSearchCV,KFold"
   ]
  },
  {
   "cell_type": "code",
   "execution_count": 86,
   "metadata": {
    "ExecuteTime": {
     "end_time": "2020-12-22T02:35:17.347004Z",
     "start_time": "2020-12-22T02:35:17.343018Z"
    }
   },
   "outputs": [],
   "source": [
    "k_fold = KFold(n_splits=5,shuffle=True, random_state = 0)"
   ]
  },
  {
   "cell_type": "markdown",
   "metadata": {},
   "source": [
    "### For Linear Regression, I only tuned \"fit_intercept\"."
   ]
  },
  {
   "cell_type": "code",
   "execution_count": 407,
   "metadata": {
    "ExecuteTime": {
     "end_time": "2020-12-22T04:02:49.548104Z",
     "start_time": "2020-12-22T04:02:49.544116Z"
    }
   },
   "outputs": [],
   "source": [
    "lr_grid = GridSearchCV(LinearRegression(),param_grid=dict(fit_intercept = [True,False]),cv = k_fold,\\\n",
    "                       scoring = 'neg_mean_absolute_error')"
   ]
  },
  {
   "cell_type": "code",
   "execution_count": 408,
   "metadata": {
    "ExecuteTime": {
     "end_time": "2020-12-22T04:02:51.975813Z",
     "start_time": "2020-12-22T04:02:49.861467Z"
    }
   },
   "outputs": [],
   "source": [
    "lr_grid_result = lr_grid.fit(X = train_pre[[*categorical,*numerical]], y = train_pre['regression'])"
   ]
  },
  {
   "cell_type": "code",
   "execution_count": 409,
   "metadata": {
    "ExecuteTime": {
     "end_time": "2020-12-22T04:02:51.987781Z",
     "start_time": "2020-12-22T04:02:51.979803Z"
    }
   },
   "outputs": [
    {
     "name": "stdout",
     "output_type": "stream",
     "text": [
      "Best: -15.477869 using {'fit_intercept': True}\n"
     ]
    }
   ],
   "source": [
    "print(\"Best: %f using %s\" % (lr_grid_result.best_score_, lr_grid_result.best_params_))\n",
    "means = lr_grid_result.cv_results_['mean_test_score']\n",
    "stds = lr_grid_result.cv_results_['std_test_score']\n",
    "params = lr_grid_result.cv_results_['params']"
   ]
  },
  {
   "cell_type": "code",
   "execution_count": null,
   "metadata": {},
   "outputs": [],
   "source": []
  },
  {
   "cell_type": "markdown",
   "metadata": {
    "ExecuteTime": {
     "end_time": "2020-12-21T22:09:49.081303Z",
     "start_time": "2020-12-21T22:09:49.072284Z"
    }
   },
   "source": [
    "### With 5 folds, the best parameter is with intercept for linear regression. It has 15.489416 mean absolute error on average."
   ]
  },
  {
   "cell_type": "code",
   "execution_count": 175,
   "metadata": {
    "ExecuteTime": {
     "end_time": "2020-12-22T03:30:34.564675Z",
     "start_time": "2020-12-22T03:30:34.560660Z"
    }
   },
   "outputs": [],
   "source": [
    "Reg_Models.append('Linear Regression')\n",
    "Reg_Models_Params.append(lr_grid_result.best_params_)\n",
    "Reg_Models_MAE.append(-lr_grid_result.best_score_)"
   ]
  },
  {
   "cell_type": "code",
   "execution_count": null,
   "metadata": {},
   "outputs": [],
   "source": []
  },
  {
   "cell_type": "markdown",
   "metadata": {},
   "source": [
    "## LASSO\n",
    "LASSO will possibly force some coefficients of features to be zero. For LASSO, I will tune the parameter ***alpha*** which is the regularization scaler and also ***fit_intercept***. <br>\n",
    "I have commented out the codes for cross_validation. It ran more than 10 minutes for 5 folds and parameters to be tuned."
   ]
  },
  {
   "cell_type": "code",
   "execution_count": 91,
   "metadata": {
    "ExecuteTime": {
     "end_time": "2020-12-22T02:35:28.677042Z",
     "start_time": "2020-12-22T02:35:28.672085Z"
    }
   },
   "outputs": [],
   "source": [
    "from sklearn.linear_model import Lasso"
   ]
  },
  {
   "cell_type": "code",
   "execution_count": 92,
   "metadata": {
    "ExecuteTime": {
     "end_time": "2020-12-22T02:35:50.116118Z",
     "start_time": "2020-12-22T02:35:50.108140Z"
    }
   },
   "outputs": [
    {
     "data": {
      "text/plain": [
       "\"lasso_param = dict(fit_intercept = [True,False],alpha = np.linspace(0,4, num = 20)[1:])\\nlasso_grid = GridSearchCV(Lasso(),param_grid=lasso_param,cv = k_fold,                       scoring = 'neg_mean_absolute_error', n_jobs=-1)\""
      ]
     },
     "execution_count": 92,
     "metadata": {},
     "output_type": "execute_result"
    }
   ],
   "source": [
    "\"\"\"lasso_param = dict(fit_intercept = [True,False],alpha = np.linspace(0,4, num = 20)[1:])\n",
    "lasso_grid = GridSearchCV(Lasso(),param_grid=lasso_param,cv = k_fold,\\\n",
    "                       scoring = 'neg_mean_absolute_error', n_jobs=-1)\"\"\""
   ]
  },
  {
   "cell_type": "code",
   "execution_count": 93,
   "metadata": {
    "ExecuteTime": {
     "end_time": "2020-12-22T02:10:01.364511Z",
     "start_time": "2020-12-22T02:10:01.360522Z"
    }
   },
   "outputs": [],
   "source": [
    "#lasso_grid_result = lasso_grid.fit(X = train_pre[[*categorical,*numerical]], y = train_pre['regression'])"
   ]
  },
  {
   "cell_type": "code",
   "execution_count": 95,
   "metadata": {
    "ExecuteTime": {
     "end_time": "2020-12-22T02:11:53.316518Z",
     "start_time": "2020-12-22T02:11:53.305548Z"
    }
   },
   "outputs": [
    {
     "name": "stdout",
     "output_type": "stream",
     "text": [
      "Best: -15.410824 using {'alpha': 0.21052631578947367, 'fit_intercept': True}\n"
     ]
    }
   ],
   "source": [
    "\"\"\"print(\"Best: %f using %s\" % (lasso_grid_result.best_score_, lasso_grid_result.best_params_))\n",
    "means = lasso_grid_result.cv_results_['mean_test_score']\n",
    "stds = lasso_grid_result.cv_results_['std_test_score']\n",
    "params = lasso_grid_result.cv_results_['params']\"\"\""
   ]
  },
  {
   "cell_type": "code",
   "execution_count": 96,
   "metadata": {
    "ExecuteTime": {
     "end_time": "2020-12-22T02:12:23.611454Z",
     "start_time": "2020-12-22T02:12:23.603476Z"
    }
   },
   "outputs": [],
   "source": [
    "\"\"\"Reg_Models.append('LASSO')\n",
    "Reg_Models_Params.append(lasso_grid_result.best_params_)\n",
    "Reg_Models_MAE.append(-lasso_grid_result.best_score_)\"\"\""
   ]
  },
  {
   "cell_type": "markdown",
   "metadata": {},
   "source": [
    "### Lasso with alpha = 0.21052631578947367 and fit_intercept = True are the best parameters."
   ]
  },
  {
   "cell_type": "code",
   "execution_count": 93,
   "metadata": {
    "ExecuteTime": {
     "end_time": "2020-12-22T02:37:03.733419Z",
     "start_time": "2020-12-22T02:37:03.728432Z"
    }
   },
   "outputs": [],
   "source": [
    "lasso_best = Lasso(alpha = 0.21052631578947367, fit_intercept=True, random_state = 0)"
   ]
  },
  {
   "cell_type": "code",
   "execution_count": 94,
   "metadata": {
    "ExecuteTime": {
     "end_time": "2020-12-22T02:37:04.523062Z",
     "start_time": "2020-12-22T02:37:04.256083Z"
    }
   },
   "outputs": [],
   "source": [
    "lasso_best_res = lasso_best.fit(X = train_pre[[*categorical,*numerical]], y = train_pre['regression'])"
   ]
  },
  {
   "cell_type": "code",
   "execution_count": 95,
   "metadata": {
    "ExecuteTime": {
     "end_time": "2020-12-22T02:37:07.224838Z",
     "start_time": "2020-12-22T02:37:07.219834Z"
    }
   },
   "outputs": [
    {
     "data": {
      "text/plain": [
       "array([ -0.        ,  -0.        ,  -0.7032901 ,  -2.63909158,\n",
       "         0.        ,  -0.        ,  -0.        ,  -0.        ,\n",
       "         0.        ,   0.43529115,   0.        ,  -3.20123538,\n",
       "        -0.        ,  -0.        , -52.68856162,  -0.        ,\n",
       "        -0.90904023,  -3.57345131,   0.        ,   0.        ,\n",
       "        -0.        , -10.72818526])"
      ]
     },
     "execution_count": 95,
     "metadata": {},
     "output_type": "execute_result"
    }
   ],
   "source": [
    "lasso_best_res.coef_"
   ]
  },
  {
   "cell_type": "markdown",
   "metadata": {},
   "source": [
    "### LASSO forced many coefficients to be 0!!!! Indeed, categorical variables are dependent."
   ]
  },
  {
   "cell_type": "code",
   "execution_count": 96,
   "metadata": {
    "ExecuteTime": {
     "end_time": "2020-12-22T02:37:17.218461Z",
     "start_time": "2020-12-22T02:37:17.198008Z"
    }
   },
   "outputs": [
    {
     "data": {
      "text/plain": [
       "Index(['PROP_PU', 'PROP_SF', 'CHNL_R', 'PURPOSE_R', 'OCCSTAT_S', 'PURPOSE_U',\n",
       "       'PROP_CP', 'PROP_MH', 'REMMNTHS', 'ORIGTERM', 'DTI', 'OLTV', 'NO_UNITS',\n",
       "       'NUMBO'],\n",
       "      dtype='object')"
      ]
     },
     "execution_count": 96,
     "metadata": {},
     "output_type": "execute_result"
    }
   ],
   "source": [
    "train_pre[[*categorical,*numerical]].columns[lasso_best_res.coef_ == 0]"
   ]
  },
  {
   "cell_type": "code",
   "execution_count": 97,
   "metadata": {
    "ExecuteTime": {
     "end_time": "2020-12-22T02:37:17.893163Z",
     "start_time": "2020-12-22T02:37:17.873196Z"
    }
   },
   "outputs": [
    {
     "data": {
      "text/plain": [
       "Index(['CHNL_C', 'OCCSTAT_P', 'FIRSTFLAG', 'PURPOSE_P', 'ORIGUPB', 'MATDT',\n",
       "       'ORIGRATE', 'CSCOREB'],\n",
       "      dtype='object')"
      ]
     },
     "execution_count": 97,
     "metadata": {},
     "output_type": "execute_result"
    }
   ],
   "source": [
    "train_pre[[*categorical,*numerical]].columns[lasso_best_res.coef_ != 0]"
   ]
  },
  {
   "cell_type": "code",
   "execution_count": null,
   "metadata": {},
   "outputs": [],
   "source": []
  },
  {
   "cell_type": "markdown",
   "metadata": {},
   "source": [
    "## Support Vector Machine\n",
    "For Support Vector Machine Regression, I will tune parameters: C, gamma, and kernel."
   ]
  },
  {
   "cell_type": "code",
   "execution_count": 98,
   "metadata": {
    "ExecuteTime": {
     "end_time": "2020-12-22T02:37:19.941858Z",
     "start_time": "2020-12-22T02:37:19.937903Z"
    }
   },
   "outputs": [],
   "source": [
    "from sklearn.svm import SVR"
   ]
  },
  {
   "cell_type": "code",
   "execution_count": 99,
   "metadata": {
    "ExecuteTime": {
     "end_time": "2020-12-22T02:37:22.410178Z",
     "start_time": "2020-12-22T02:37:22.406189Z"
    }
   },
   "outputs": [],
   "source": [
    "Cs = [0.01, 0.05, 0.1 ,0.5, 1, 5]\n",
    "gammas = [0.01, 0.05, 0.1, 0.5 ,1]\n",
    "kernels = ['linear','rbf']"
   ]
  },
  {
   "cell_type": "code",
   "execution_count": 100,
   "metadata": {
    "ExecuteTime": {
     "end_time": "2020-12-22T02:37:24.999400Z",
     "start_time": "2020-12-22T02:37:24.994415Z"
    }
   },
   "outputs": [],
   "source": [
    "svr_param = dict(kernel = kernels, C = Cs, gamma = gammas)\n",
    "svr_grid = GridSearchCV(SVR(),param_grid=svr_param,cv = k_fold,\\\n",
    "                       scoring = 'neg_mean_absolute_error', n_jobs=-1)"
   ]
  },
  {
   "cell_type": "code",
   "execution_count": 102,
   "metadata": {
    "ExecuteTime": {
     "end_time": "2020-12-22T02:37:37.603143Z",
     "start_time": "2020-12-22T02:37:37.599153Z"
    }
   },
   "outputs": [],
   "source": [
    "#svr_grid_result = svr_grid.fit(X = train_pre[[*categorical,*numerical]], y = train_pre['regression'])"
   ]
  },
  {
   "cell_type": "code",
   "execution_count": 103,
   "metadata": {
    "ExecuteTime": {
     "end_time": "2020-12-22T02:37:42.184723Z",
     "start_time": "2020-12-22T02:37:42.179689Z"
    }
   },
   "outputs": [
    {
     "data": {
      "text/plain": [
       "'print(\"Best: %f using %s\" % (svr_grid_result.best_score_, svr_grid_result.best_params_))\\nmeans = svr_grid_result.cv_results_[\\'mean_test_score\\']\\nstds = svr_grid_result.cv_results_[\\'std_test_score\\']\\nparams = svr_grid_result.cv_results_[\\'params\\']'"
      ]
     },
     "execution_count": 103,
     "metadata": {},
     "output_type": "execute_result"
    }
   ],
   "source": [
    "\"\"\"print(\"Best: %f using %s\" % (svr_grid_result.best_score_, svr_grid_result.best_params_))\n",
    "means = svr_grid_result.cv_results_['mean_test_score']\n",
    "stds = svr_grid_result.cv_results_['std_test_score']\n",
    "params = svr_grid_result.cv_results_['params']\"\"\""
   ]
  },
  {
   "cell_type": "code",
   "execution_count": null,
   "metadata": {},
   "outputs": [],
   "source": []
  },
  {
   "cell_type": "markdown",
   "metadata": {},
   "source": [
    "### SVM took me a night to run (because SVM is sensitive to the size of data; the result was not good: score was 15.450284 which is worse than LASSO) . In addition, to fit data with the best parameter even took a lot of time so I just kept SVM here to show this part was implemented."
   ]
  },
  {
   "cell_type": "code",
   "execution_count": 105,
   "metadata": {
    "ExecuteTime": {
     "end_time": "2020-12-22T02:42:44.391870Z",
     "start_time": "2020-12-22T02:42:44.387906Z"
    }
   },
   "outputs": [],
   "source": [
    "from sklearn.ensemble import RandomForestRegressor"
   ]
  },
  {
   "cell_type": "markdown",
   "metadata": {},
   "source": [
    "## Random Forests\n",
    "For Random Forests, I tuned no of trees, no of max_features, no of min_samples_leaf and no of min_samples_split"
   ]
  },
  {
   "cell_type": "code",
   "execution_count": 104,
   "metadata": {
    "ExecuteTime": {
     "end_time": "2020-12-22T02:42:20.703914Z",
     "start_time": "2020-12-22T02:42:20.697925Z"
    }
   },
   "outputs": [],
   "source": [
    "rf_n_trees = [20,30,50,100]\n",
    "rf_max_features = ['auto',3,5,8,16]\n",
    "rf_min_samples_leaf =  [2, 5, 10,20,30]\n",
    "rf_min_samples_split = [10,20,50,60,100]"
   ]
  },
  {
   "cell_type": "code",
   "execution_count": 166,
   "metadata": {
    "ExecuteTime": {
     "end_time": "2020-12-22T03:23:20.671645Z",
     "start_time": "2020-12-22T03:23:20.667658Z"
    }
   },
   "outputs": [],
   "source": [
    "rf_param = dict(n_estimators = rf_n_trees,max_features = rf_max_features,min_samples_split = rf_min_samples_split,\n",
    "                  min_samples_leaf = rf_min_samples_leaf )\n",
    "rf_grid = GridSearchCV(RandomForestRegressor(random_state = 0), rf_param, cv = k_fold,\n",
    "                       scoring = 'neg_mean_absolute_error',n_jobs=-1)"
   ]
  },
  {
   "cell_type": "code",
   "execution_count": 167,
   "metadata": {
    "ExecuteTime": {
     "end_time": "2020-12-22T03:24:45.417496Z",
     "start_time": "2020-12-22T03:23:21.202726Z"
    }
   },
   "outputs": [],
   "source": [
    "#rf_grid_result = rf_grid.fit(X = train_pre[[*categorical,*numerical,*tree_specific]], y = train_pre['regression'])"
   ]
  },
  {
   "cell_type": "code",
   "execution_count": 168,
   "metadata": {
    "ExecuteTime": {
     "end_time": "2020-12-22T03:24:45.426585Z",
     "start_time": "2020-12-22T03:24:45.419465Z"
    }
   },
   "outputs": [
    {
     "name": "stdout",
     "output_type": "stream",
     "text": [
      "Best: -15.043267 using {'max_features': 'auto', 'min_samples_leaf': 30, 'min_samples_split': 50, 'n_estimators': 20}\n"
     ]
    }
   ],
   "source": [
    "print(\"Best: %f using %s\" % (rf_grid_result.best_score_, rf_grid_result.best_params_))\n",
    "means = rf_grid_result.cv_results_['mean_test_score']\n",
    "stds = rf_grid_result.cv_results_['std_test_score']\n",
    "params = rf_grid_result.cv_results_['params']"
   ]
  },
  {
   "cell_type": "code",
   "execution_count": 178,
   "metadata": {
    "ExecuteTime": {
     "end_time": "2020-12-22T03:31:21.451457Z",
     "start_time": "2020-12-22T03:31:21.446470Z"
    }
   },
   "outputs": [],
   "source": [
    "Reg_Models.append('Random Forest')\n",
    "Reg_Models_Params.append(rf_grid_result.cv_results_['params'])\n",
    "Reg_Models_MAE.append(-rf_grid_result.cv_results_['mean_test_score'])"
   ]
  },
  {
   "cell_type": "markdown",
   "metadata": {},
   "source": [
    "### Random Forests with {max_features': 'auto', 'min_samples_leaf': 30, 'min_samples_split': 50, 'n_estimators': 20} is the best in cross validation achieving Mean Absolute Error as 15.043267."
   ]
  },
  {
   "cell_type": "code",
   "execution_count": 376,
   "metadata": {
    "ExecuteTime": {
     "end_time": "2020-12-22T03:52:01.900884Z",
     "start_time": "2020-12-22T03:52:01.897382Z"
    }
   },
   "outputs": [],
   "source": [
    "rf_best = RandomForestRegressor(n_estimators = 20, max_features = 'auto', min_samples_leaf = 30,\\\n",
    "                                min_samples_split= 50, random_state = 0)"
   ]
  },
  {
   "cell_type": "code",
   "execution_count": 377,
   "metadata": {
    "ExecuteTime": {
     "end_time": "2020-12-22T03:52:34.182061Z",
     "start_time": "2020-12-22T03:52:03.709845Z"
    }
   },
   "outputs": [],
   "source": [
    "rf_best_res = rf_best.fit(X = train_pre[[*categorical,*numerical,*tree_specific]], y = train_pre['regression'])"
   ]
  },
  {
   "cell_type": "code",
   "execution_count": 378,
   "metadata": {
    "ExecuteTime": {
     "end_time": "2020-12-22T03:52:34.192112Z",
     "start_time": "2020-12-22T03:52:34.184020Z"
    }
   },
   "outputs": [],
   "source": [
    "feature_importances = pd.DataFrame(data = rf_best_res.feature_importances_, index = [*categorical,*numerical,*tree_specific])"
   ]
  },
  {
   "cell_type": "markdown",
   "metadata": {},
   "source": [
    "### The feature importance shows us ORIGUPB, ORIGRATE, CSCOREB, OLTV, and DTI were the top five features while sellers (around 20 of them) show almost 0 importance."
   ]
  },
  {
   "cell_type": "code",
   "execution_count": 189,
   "metadata": {
    "ExecuteTime": {
     "end_time": "2020-12-22T03:33:17.612507Z",
     "start_time": "2020-12-22T03:33:17.602535Z"
    }
   },
   "outputs": [
    {
     "data": {
      "text/html": [
       "<div>\n",
       "<style scoped>\n",
       "    .dataframe tbody tr th:only-of-type {\n",
       "        vertical-align: middle;\n",
       "    }\n",
       "\n",
       "    .dataframe tbody tr th {\n",
       "        vertical-align: top;\n",
       "    }\n",
       "\n",
       "    .dataframe thead th {\n",
       "        text-align: right;\n",
       "    }\n",
       "</style>\n",
       "<table border=\"1\" class=\"dataframe\">\n",
       "  <thead>\n",
       "    <tr style=\"text-align: right;\">\n",
       "      <th></th>\n",
       "      <th>0</th>\n",
       "    </tr>\n",
       "  </thead>\n",
       "  <tbody>\n",
       "    <tr>\n",
       "      <th>ORIGUPB</th>\n",
       "      <td>0.460828</td>\n",
       "    </tr>\n",
       "    <tr>\n",
       "      <th>ORIGRATE</th>\n",
       "      <td>0.156253</td>\n",
       "    </tr>\n",
       "    <tr>\n",
       "      <th>CSCOREB</th>\n",
       "      <td>0.117025</td>\n",
       "    </tr>\n",
       "    <tr>\n",
       "      <th>OLTV</th>\n",
       "      <td>0.062068</td>\n",
       "    </tr>\n",
       "    <tr>\n",
       "      <th>DTI</th>\n",
       "      <td>0.060297</td>\n",
       "    </tr>\n",
       "    <tr>\n",
       "      <th>MATDT</th>\n",
       "      <td>0.028627</td>\n",
       "    </tr>\n",
       "    <tr>\n",
       "      <th>REMMNTHS</th>\n",
       "      <td>0.019141</td>\n",
       "    </tr>\n",
       "    <tr>\n",
       "      <th>PURPOSE_P</th>\n",
       "      <td>0.013444</td>\n",
       "    </tr>\n",
       "    <tr>\n",
       "      <th>NUMBO</th>\n",
       "      <td>0.011476</td>\n",
       "    </tr>\n",
       "    <tr>\n",
       "      <th>CHNL_R</th>\n",
       "      <td>0.008797</td>\n",
       "    </tr>\n",
       "    <tr>\n",
       "      <th>PROP_MH</th>\n",
       "      <td>0.007840</td>\n",
       "    </tr>\n",
       "    <tr>\n",
       "      <th>SELLER_Other</th>\n",
       "      <td>0.007152</td>\n",
       "    </tr>\n",
       "    <tr>\n",
       "      <th>OCCSTAT_P</th>\n",
       "      <td>0.006258</td>\n",
       "    </tr>\n",
       "    <tr>\n",
       "      <th>FIRSTFLAG</th>\n",
       "      <td>0.005876</td>\n",
       "    </tr>\n",
       "    <tr>\n",
       "      <th>SELLER_JP</th>\n",
       "      <td>0.005332</td>\n",
       "    </tr>\n",
       "    <tr>\n",
       "      <th>CHNL_C</th>\n",
       "      <td>0.005321</td>\n",
       "    </tr>\n",
       "    <tr>\n",
       "      <th>PURPOSE_R</th>\n",
       "      <td>0.004149</td>\n",
       "    </tr>\n",
       "    <tr>\n",
       "      <th>NO_UNITS</th>\n",
       "      <td>0.003699</td>\n",
       "    </tr>\n",
       "    <tr>\n",
       "      <th>SELLER_Bank Of America, N.A.</th>\n",
       "      <td>0.002911</td>\n",
       "    </tr>\n",
       "    <tr>\n",
       "      <th>PROP_SF</th>\n",
       "      <td>0.002060</td>\n",
       "    </tr>\n",
       "    <tr>\n",
       "      <th>SELLER_Bishops Gate Residential Mortgage Trust</th>\n",
       "      <td>0.001840</td>\n",
       "    </tr>\n",
       "    <tr>\n",
       "      <th>SELLER_Wells Fargo Bank, N.A.</th>\n",
       "      <td>0.001823</td>\n",
       "    </tr>\n",
       "    <tr>\n",
       "      <th>SELLER_Gmac Mortgage, Llc</th>\n",
       "      <td>0.001014</td>\n",
       "    </tr>\n",
       "    <tr>\n",
       "      <th>OCCSTAT_S</th>\n",
       "      <td>0.000980</td>\n",
       "    </tr>\n",
       "    <tr>\n",
       "      <th>SELLER_Flagstar Bank, Fsb</th>\n",
       "      <td>0.000903</td>\n",
       "    </tr>\n",
       "    <tr>\n",
       "      <th>ORIGTERM</th>\n",
       "      <td>0.000808</td>\n",
       "    </tr>\n",
       "    <tr>\n",
       "      <th>SELLER_Citimortgage, Inc.</th>\n",
       "      <td>0.000782</td>\n",
       "    </tr>\n",
       "    <tr>\n",
       "      <th>PROP_CP</th>\n",
       "      <td>0.000662</td>\n",
       "    </tr>\n",
       "    <tr>\n",
       "      <th>SELLER_Suntrust Mortgage Inc.</th>\n",
       "      <td>0.000635</td>\n",
       "    </tr>\n",
       "    <tr>\n",
       "      <th>SELLER_Regions Bank</th>\n",
       "      <td>0.000594</td>\n",
       "    </tr>\n",
       "    <tr>\n",
       "      <th>SELLER_Usaa Federal Savings Bank</th>\n",
       "      <td>0.000430</td>\n",
       "    </tr>\n",
       "    <tr>\n",
       "      <th>PROP_PU</th>\n",
       "      <td>0.000416</td>\n",
       "    </tr>\n",
       "    <tr>\n",
       "      <th>SELLER_First Tennessee Bank National Association</th>\n",
       "      <td>0.000305</td>\n",
       "    </tr>\n",
       "    <tr>\n",
       "      <th>SELLER_Netbank Funding Services</th>\n",
       "      <td>0.000189</td>\n",
       "    </tr>\n",
       "    <tr>\n",
       "      <th>SELLER_Pnc Bank, N.A.</th>\n",
       "      <td>0.000044</td>\n",
       "    </tr>\n",
       "    <tr>\n",
       "      <th>SELLER_Harwood Street Funding I, Llc</th>\n",
       "      <td>0.000020</td>\n",
       "    </tr>\n",
       "    <tr>\n",
       "      <th>SELLER_Rbc Mortgage Company</th>\n",
       "      <td>0.000001</td>\n",
       "    </tr>\n",
       "    <tr>\n",
       "      <th>SELLER_The Huntington National Bank</th>\n",
       "      <td>0.000000</td>\n",
       "    </tr>\n",
       "    <tr>\n",
       "      <th>SELLER_Washtenaw Mortgage Company</th>\n",
       "      <td>0.000000</td>\n",
       "    </tr>\n",
       "    <tr>\n",
       "      <th>SELLER_Downey Savings And Loan Association, F.A.</th>\n",
       "      <td>0.000000</td>\n",
       "    </tr>\n",
       "    <tr>\n",
       "      <th>PURPOSE_U</th>\n",
       "      <td>0.000000</td>\n",
       "    </tr>\n",
       "    <tr>\n",
       "      <th>SELLER_Old Kent Mortgage Company</th>\n",
       "      <td>0.000000</td>\n",
       "    </tr>\n",
       "  </tbody>\n",
       "</table>\n",
       "</div>"
      ],
      "text/plain": [
       "                                                         0\n",
       "ORIGUPB                                           0.460828\n",
       "ORIGRATE                                          0.156253\n",
       "CSCOREB                                           0.117025\n",
       "OLTV                                              0.062068\n",
       "DTI                                               0.060297\n",
       "MATDT                                             0.028627\n",
       "REMMNTHS                                          0.019141\n",
       "PURPOSE_P                                         0.013444\n",
       "NUMBO                                             0.011476\n",
       "CHNL_R                                            0.008797\n",
       "PROP_MH                                           0.007840\n",
       "SELLER_Other                                      0.007152\n",
       "OCCSTAT_P                                         0.006258\n",
       "FIRSTFLAG                                         0.005876\n",
       "SELLER_JP                                         0.005332\n",
       "CHNL_C                                            0.005321\n",
       "PURPOSE_R                                         0.004149\n",
       "NO_UNITS                                          0.003699\n",
       "SELLER_Bank Of America, N.A.                      0.002911\n",
       "PROP_SF                                           0.002060\n",
       "SELLER_Bishops Gate Residential Mortgage Trust    0.001840\n",
       "SELLER_Wells Fargo Bank, N.A.                     0.001823\n",
       "SELLER_Gmac Mortgage, Llc                         0.001014\n",
       "OCCSTAT_S                                         0.000980\n",
       "SELLER_Flagstar Bank, Fsb                         0.000903\n",
       "ORIGTERM                                          0.000808\n",
       "SELLER_Citimortgage, Inc.                         0.000782\n",
       "PROP_CP                                           0.000662\n",
       "SELLER_Suntrust Mortgage Inc.                     0.000635\n",
       "SELLER_Regions Bank                               0.000594\n",
       "SELLER_Usaa Federal Savings Bank                  0.000430\n",
       "PROP_PU                                           0.000416\n",
       "SELLER_First Tennessee Bank National Association  0.000305\n",
       "SELLER_Netbank Funding Services                   0.000189\n",
       "SELLER_Pnc Bank, N.A.                             0.000044\n",
       "SELLER_Harwood Street Funding I, Llc              0.000020\n",
       "SELLER_Rbc Mortgage Company                       0.000001\n",
       "SELLER_The Huntington National Bank               0.000000\n",
       "SELLER_Washtenaw Mortgage Company                 0.000000\n",
       "SELLER_Downey Savings And Loan Association, F.A.  0.000000\n",
       "PURPOSE_U                                         0.000000\n",
       "SELLER_Old Kent Mortgage Company                  0.000000"
      ]
     },
     "execution_count": 189,
     "metadata": {},
     "output_type": "execute_result"
    }
   ],
   "source": [
    "feature_importances.sort_values(0,ascending=False)"
   ]
  },
  {
   "cell_type": "code",
   "execution_count": null,
   "metadata": {},
   "outputs": [],
   "source": []
  },
  {
   "cell_type": "markdown",
   "metadata": {},
   "source": [
    "## PCA\n",
    "This function finds number of principal component needed for explaining over 95% variance and return the PCA model<br>\n",
    "PCA is only applied to ***numerical*** features."
   ]
  },
  {
   "cell_type": "code",
   "execution_count": 190,
   "metadata": {
    "ExecuteTime": {
     "end_time": "2020-12-22T03:33:21.027663Z",
     "start_time": "2020-12-22T03:33:21.023709Z"
    }
   },
   "outputs": [],
   "source": [
    "from sklearn.decomposition import PCA"
   ]
  },
  {
   "cell_type": "code",
   "execution_count": 191,
   "metadata": {
    "ExecuteTime": {
     "end_time": "2020-12-22T03:33:21.531272Z",
     "start_time": "2020-12-22T03:33:21.511540Z"
    }
   },
   "outputs": [],
   "source": [
    "def fit_pca(data,threshold, solver):\n",
    "    \n",
    "    pca = PCA(svd_solver = solver)\n",
    "    pca_model =pca.fit(data)\n",
    "    variance = pca_model.explained_variance_ratio_.cumsum()\n",
    "    \n",
    "    number_of_factor = 0\n",
    "    for i,j in enumerate(variance):\n",
    "        if j>= threshold:\n",
    "            number_of_factor = i\n",
    "            break\n",
    "    print('We need {} principal factors to caputure {} percent of variance.'.format(number_of_factor,threshold*100))\n",
    "    new_pca = PCA(n_components = number_of_factor,svd_solver = solver)\n",
    "    new_pca_model = new_pca.fit(data)\n",
    "    \n",
    "    \n",
    "    return number_of_factor,new_pca_model"
   ]
  },
  {
   "cell_type": "code",
   "execution_count": 192,
   "metadata": {
    "ExecuteTime": {
     "end_time": "2020-12-22T03:33:23.112346Z",
     "start_time": "2020-12-22T03:33:22.900254Z"
    }
   },
   "outputs": [
    {
     "name": "stdout",
     "output_type": "stream",
     "text": [
      "We need 2 principal factors to caputure 95.0 percent of variance.\n"
     ]
    }
   ],
   "source": [
    "no_of_factor, pca = fit_pca(train_pre[numerical],95/100, solver = 'full')"
   ]
  },
  {
   "cell_type": "code",
   "execution_count": 193,
   "metadata": {
    "ExecuteTime": {
     "end_time": "2020-12-22T03:33:23.571141Z",
     "start_time": "2020-12-22T03:33:23.343750Z"
    }
   },
   "outputs": [],
   "source": [
    "train_pre[['PCA1','PCA2']] = pca.fit_transform(train_pre[numerical])"
   ]
  },
  {
   "cell_type": "markdown",
   "metadata": {},
   "source": [
    "### Random Forest was the best model among all the models tested above. Let's apply Random Forest with PCA to see whether we can further improve the model (also the top eight features are tested for comparison, i.e., model with only top seven features (top seven explained over 90% importance)) <br>Since I tested a lot of models, for PCA part, I did not tune parameters (due to limited time). I only use the best parameter."
   ]
  },
  {
   "cell_type": "code",
   "execution_count": 194,
   "metadata": {
    "ExecuteTime": {
     "end_time": "2020-12-22T03:34:01.829857Z",
     "start_time": "2020-12-22T03:34:01.824883Z"
    }
   },
   "outputs": [],
   "source": [
    "rf_pca_param = dict(n_estimators = [20],max_features = ['auto'],min_samples_split = [50],\n",
    "                  min_samples_leaf = [30] )\n",
    "rf_pca_grid = GridSearchCV(RandomForestRegressor(random_state = 0), param_grid=rf_pca_param, cv = k_fold,\\\n",
    "                           scoring = 'neg_mean_absolute_error',n_jobs=-1)"
   ]
  },
  {
   "cell_type": "code",
   "execution_count": 195,
   "metadata": {
    "ExecuteTime": {
     "end_time": "2020-12-22T03:35:15.836032Z",
     "start_time": "2020-12-22T03:34:02.940121Z"
    }
   },
   "outputs": [],
   "source": [
    "rf_pca_grid_res = rf_pca_grid.fit(train_pre[[*categorical,*['PCA1','PCA2'],*tree_specific]], y = train_pre['regression'] )"
   ]
  },
  {
   "cell_type": "code",
   "execution_count": 386,
   "metadata": {
    "ExecuteTime": {
     "end_time": "2020-12-22T03:55:52.517575Z",
     "start_time": "2020-12-22T03:55:52.512588Z"
    }
   },
   "outputs": [
    {
     "data": {
      "text/plain": [
       "array([-15.18068838])"
      ]
     },
     "execution_count": 386,
     "metadata": {},
     "output_type": "execute_result"
    }
   ],
   "source": [
    "rf_pca_grid_res.cv_results_['mean_test_score']"
   ]
  },
  {
   "cell_type": "markdown",
   "metadata": {},
   "source": [
    "### However, the result was not improved using PCA (because I did not tune hyperparameters).<br>Let's use the top seven importance features."
   ]
  },
  {
   "cell_type": "code",
   "execution_count": 203,
   "metadata": {
    "ExecuteTime": {
     "end_time": "2020-12-22T03:39:30.777790Z",
     "start_time": "2020-12-22T03:39:30.768800Z"
    }
   },
   "outputs": [
    {
     "data": {
      "text/html": [
       "<div>\n",
       "<style scoped>\n",
       "    .dataframe tbody tr th:only-of-type {\n",
       "        vertical-align: middle;\n",
       "    }\n",
       "\n",
       "    .dataframe tbody tr th {\n",
       "        vertical-align: top;\n",
       "    }\n",
       "\n",
       "    .dataframe thead th {\n",
       "        text-align: right;\n",
       "    }\n",
       "</style>\n",
       "<table border=\"1\" class=\"dataframe\">\n",
       "  <thead>\n",
       "    <tr style=\"text-align: right;\">\n",
       "      <th></th>\n",
       "      <th>0</th>\n",
       "    </tr>\n",
       "  </thead>\n",
       "  <tbody>\n",
       "    <tr>\n",
       "      <th>ORIGUPB</th>\n",
       "      <td>0.460828</td>\n",
       "    </tr>\n",
       "    <tr>\n",
       "      <th>ORIGRATE</th>\n",
       "      <td>0.617081</td>\n",
       "    </tr>\n",
       "    <tr>\n",
       "      <th>CSCOREB</th>\n",
       "      <td>0.734107</td>\n",
       "    </tr>\n",
       "    <tr>\n",
       "      <th>OLTV</th>\n",
       "      <td>0.796174</td>\n",
       "    </tr>\n",
       "    <tr>\n",
       "      <th>DTI</th>\n",
       "      <td>0.856471</td>\n",
       "    </tr>\n",
       "    <tr>\n",
       "      <th>MATDT</th>\n",
       "      <td>0.885098</td>\n",
       "    </tr>\n",
       "    <tr>\n",
       "      <th>REMMNTHS</th>\n",
       "      <td>0.904240</td>\n",
       "    </tr>\n",
       "  </tbody>\n",
       "</table>\n",
       "</div>"
      ],
      "text/plain": [
       "                 0\n",
       "ORIGUPB   0.460828\n",
       "ORIGRATE  0.617081\n",
       "CSCOREB   0.734107\n",
       "OLTV      0.796174\n",
       "DTI       0.856471\n",
       "MATDT     0.885098\n",
       "REMMNTHS  0.904240"
      ]
     },
     "execution_count": 203,
     "metadata": {},
     "output_type": "execute_result"
    }
   ],
   "source": [
    "feature_importances.sort_values(0,ascending=False).head(7).cumsum()"
   ]
  },
  {
   "cell_type": "code",
   "execution_count": 202,
   "metadata": {
    "ExecuteTime": {
     "end_time": "2020-12-22T03:39:24.128515Z",
     "start_time": "2020-12-22T03:39:24.124527Z"
    }
   },
   "outputs": [],
   "source": [
    "rf_7_param = dict(n_estimators = [20],max_features = ['auto'],min_samples_split = [50],\n",
    "                  min_samples_leaf = [30] )\n",
    "rf_7_grid = GridSearchCV(RandomForestRegressor(random_state = 0), param_grid=rf_pca_param, cv = k_fold,\\\n",
    "                           scoring = 'neg_mean_absolute_error',n_jobs=-1)"
   ]
  },
  {
   "cell_type": "code",
   "execution_count": 204,
   "metadata": {
    "ExecuteTime": {
     "end_time": "2020-12-22T03:40:15.708949Z",
     "start_time": "2020-12-22T03:39:40.768644Z"
    }
   },
   "outputs": [],
   "source": [
    "rf_7_grid_res = rf_pca_grid.fit(train_pre[feature_importances.sort_values(0,ascending=False).head(7).index],\\\n",
    "                                y = train_pre['regression'])"
   ]
  },
  {
   "cell_type": "code",
   "execution_count": 385,
   "metadata": {
    "ExecuteTime": {
     "end_time": "2020-12-22T03:55:41.540920Z",
     "start_time": "2020-12-22T03:55:41.534938Z"
    }
   },
   "outputs": [
    {
     "data": {
      "text/plain": [
       "array([-15.18068838])"
      ]
     },
     "execution_count": 385,
     "metadata": {},
     "output_type": "execute_result"
    }
   ],
   "source": [
    "rf_7_grid_res.cv_results_['mean_test_score'] # No better than the orginal Random Forest"
   ]
  },
  {
   "cell_type": "code",
   "execution_count": 211,
   "metadata": {
    "ExecuteTime": {
     "end_time": "2020-12-22T03:43:39.103372Z",
     "start_time": "2020-12-22T03:43:39.098354Z"
    }
   },
   "outputs": [],
   "source": [
    "Regression_Result = pd.DataFrame(dict(Model = Reg_Models, Parameters = Reg_Models_Params, Mean_Absolute_Error = Reg_Models_MAE))"
   ]
  },
  {
   "cell_type": "markdown",
   "metadata": {},
   "source": [
    "# Summary\n",
    "In my cross_validation, Random Forest was the best predictor giving us Mean_Absolute_Error as around 15.04 (which is not expected, to be honest)"
   ]
  },
  {
   "cell_type": "code",
   "execution_count": 212,
   "metadata": {
    "ExecuteTime": {
     "end_time": "2020-12-22T03:43:42.455863Z",
     "start_time": "2020-12-22T03:43:42.445520Z"
    }
   },
   "outputs": [
    {
     "data": {
      "text/html": [
       "<div>\n",
       "<style scoped>\n",
       "    .dataframe tbody tr th:only-of-type {\n",
       "        vertical-align: middle;\n",
       "    }\n",
       "\n",
       "    .dataframe tbody tr th {\n",
       "        vertical-align: top;\n",
       "    }\n",
       "\n",
       "    .dataframe thead th {\n",
       "        text-align: right;\n",
       "    }\n",
       "</style>\n",
       "<table border=\"1\" class=\"dataframe\">\n",
       "  <thead>\n",
       "    <tr style=\"text-align: right;\">\n",
       "      <th></th>\n",
       "      <th>Model</th>\n",
       "      <th>Parameters</th>\n",
       "      <th>Mean_Absolute_Error</th>\n",
       "    </tr>\n",
       "  </thead>\n",
       "  <tbody>\n",
       "    <tr>\n",
       "      <th>0</th>\n",
       "      <td>Linear Regression</td>\n",
       "      <td>{'fit_intercept': True}</td>\n",
       "      <td>15.478</td>\n",
       "    </tr>\n",
       "    <tr>\n",
       "      <th>1</th>\n",
       "      <td>LASSO</td>\n",
       "      <td>{'alpha': 0.21052631578947367, 'fit_intercept'...</td>\n",
       "      <td>15.4108</td>\n",
       "    </tr>\n",
       "    <tr>\n",
       "      <th>2</th>\n",
       "      <td>SVM</td>\n",
       "      <td>{'kernel': 'rbf', 'C': 0.5, 'Gamma': 0.5}</td>\n",
       "      <td>15.4503</td>\n",
       "    </tr>\n",
       "    <tr>\n",
       "      <th>3</th>\n",
       "      <td>Random Forest</td>\n",
       "      <td>[{'max_features': 'auto', 'min_samples_leaf': ...</td>\n",
       "      <td>[15.043267443492686]</td>\n",
       "    </tr>\n",
       "  </tbody>\n",
       "</table>\n",
       "</div>"
      ],
      "text/plain": [
       "               Model                                         Parameters  \\\n",
       "0  Linear Regression                            {'fit_intercept': True}   \n",
       "1              LASSO  {'alpha': 0.21052631578947367, 'fit_intercept'...   \n",
       "2                SVM          {'kernel': 'rbf', 'C': 0.5, 'Gamma': 0.5}   \n",
       "3      Random Forest  [{'max_features': 'auto', 'min_samples_leaf': ...   \n",
       "\n",
       "    Mean_Absolute_Error  \n",
       "0                15.478  \n",
       "1               15.4108  \n",
       "2               15.4503  \n",
       "3  [15.043267443492686]  "
      ]
     },
     "execution_count": 212,
     "metadata": {},
     "output_type": "execute_result"
    }
   ],
   "source": [
    "Regression_Result"
   ]
  },
  {
   "cell_type": "code",
   "execution_count": null,
   "metadata": {},
   "outputs": [],
   "source": []
  },
  {
   "cell_type": "code",
   "execution_count": null,
   "metadata": {},
   "outputs": [],
   "source": []
  },
  {
   "cell_type": "markdown",
   "metadata": {},
   "source": [
    "# Save Predictions"
   ]
  },
  {
   "cell_type": "code",
   "execution_count": 382,
   "metadata": {
    "ExecuteTime": {
     "end_time": "2020-12-22T03:54:33.912040Z",
     "start_time": "2020-12-22T03:54:33.907041Z"
    }
   },
   "outputs": [],
   "source": [
    "prediction = pd.DataFrame(index = test_pre.index)"
   ]
  },
  {
   "cell_type": "code",
   "execution_count": 383,
   "metadata": {
    "ExecuteTime": {
     "end_time": "2020-12-22T03:55:01.131870Z",
     "start_time": "2020-12-22T03:55:00.836966Z"
    }
   },
   "outputs": [],
   "source": [
    "prediction['NMONTHS'] = rf_best_res.predict(test_pre[[*categorical,*numerical,*tree_specific]])"
   ]
  },
  {
   "cell_type": "code",
   "execution_count": 426,
   "metadata": {
    "ExecuteTime": {
     "end_time": "2020-12-22T09:22:22.152547Z",
     "start_time": "2020-12-22T09:22:21.891227Z"
    }
   },
   "outputs": [],
   "source": [
    "prediction.to_csv('Regression_Predictions.csv')"
   ]
  },
  {
   "cell_type": "code",
   "execution_count": null,
   "metadata": {},
   "outputs": [],
   "source": []
  },
  {
   "cell_type": "markdown",
   "metadata": {},
   "source": [
    "Saving data for classification problem because I use separate notebooks."
   ]
  },
  {
   "cell_type": "code",
   "execution_count": 421,
   "metadata": {
    "ExecuteTime": {
     "end_time": "2020-12-22T04:08:44.090490Z",
     "start_time": "2020-12-22T04:08:37.990284Z"
    }
   },
   "outputs": [],
   "source": [
    "train_pre.to_csv('my_train.csv')\n",
    "test_pre.to_csv('my_test.csv')"
   ]
  },
  {
   "cell_type": "code",
   "execution_count": null,
   "metadata": {},
   "outputs": [],
   "source": []
  },
  {
   "cell_type": "markdown",
   "metadata": {},
   "source": [
    "# Improvement\n",
    "The model can be trained better if filtering outliers for \"NMONTHS\". On avergae, the number is around 28 (random forest's insample prediction is also 28). However, the max of no of month is 242 in the sample but random forest's insample prediction's max is only 141. That makes sense why Random Forest was the best model because it is robust to outliers."
   ]
  },
  {
   "cell_type": "code",
   "execution_count": 399,
   "metadata": {
    "ExecuteTime": {
     "end_time": "2020-12-22T04:00:44.081442Z",
     "start_time": "2020-12-22T04:00:44.075461Z"
    }
   },
   "outputs": [
    {
     "data": {
      "text/plain": [
       "28.07204644092882"
      ]
     },
     "execution_count": 399,
     "metadata": {},
     "output_type": "execute_result"
    }
   ],
   "source": [
    "train_pre['regression'].mean()"
   ]
  },
  {
   "cell_type": "code",
   "execution_count": 418,
   "metadata": {
    "ExecuteTime": {
     "end_time": "2020-12-22T04:06:18.065477Z",
     "start_time": "2020-12-22T04:06:18.059493Z"
    }
   },
   "outputs": [
    {
     "data": {
      "text/plain": [
       "242"
      ]
     },
     "execution_count": 418,
     "metadata": {},
     "output_type": "execute_result"
    }
   ],
   "source": [
    "train_pre['regression'].max()"
   ]
  },
  {
   "cell_type": "code",
   "execution_count": 400,
   "metadata": {
    "ExecuteTime": {
     "end_time": "2020-12-22T04:00:48.860546Z",
     "start_time": "2020-12-22T04:00:47.971997Z"
    }
   },
   "outputs": [
    {
     "data": {
      "text/plain": [
       "28.09902556070258"
      ]
     },
     "execution_count": 400,
     "metadata": {},
     "output_type": "execute_result"
    }
   ],
   "source": [
    "rf_best_res.predict(train_pre[[*categorical,*numerical,*tree_specific]]).mean()"
   ]
  },
  {
   "cell_type": "code",
   "execution_count": 419,
   "metadata": {
    "ExecuteTime": {
     "end_time": "2020-12-22T04:06:29.914545Z",
     "start_time": "2020-12-22T04:06:29.101754Z"
    }
   },
   "outputs": [
    {
     "data": {
      "text/plain": [
       "141.01788168777725"
      ]
     },
     "execution_count": 419,
     "metadata": {},
     "output_type": "execute_result"
    }
   ],
   "source": [
    "rf_best_res.predict(train_pre[[*categorical,*numerical,*tree_specific]]).max()"
   ]
  },
  {
   "cell_type": "code",
   "execution_count": null,
   "metadata": {},
   "outputs": [],
   "source": []
  }
 ],
 "metadata": {
  "kernelspec": {
   "display_name": "Python 3",
   "language": "python",
   "name": "python3"
  },
  "language_info": {
   "codemirror_mode": {
    "name": "ipython",
    "version": 3
   },
   "file_extension": ".py",
   "mimetype": "text/x-python",
   "name": "python",
   "nbconvert_exporter": "python",
   "pygments_lexer": "ipython3",
   "version": "3.7.3"
  },
  "toc": {
   "base_numbering": 1,
   "nav_menu": {},
   "number_sections": true,
   "sideBar": true,
   "skip_h1_title": false,
   "title_cell": "Table of Contents",
   "title_sidebar": "Contents",
   "toc_cell": false,
   "toc_position": {},
   "toc_section_display": true,
   "toc_window_display": true
  }
 },
 "nbformat": 4,
 "nbformat_minor": 2
}
