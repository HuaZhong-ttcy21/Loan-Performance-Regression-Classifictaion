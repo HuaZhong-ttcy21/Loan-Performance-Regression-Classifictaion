{
 "cells": [
  {
   "cell_type": "markdown",
   "metadata": {},
   "source": [
    "# Import Packages"
   ]
  },
  {
   "cell_type": "code",
   "execution_count": 1,
   "metadata": {
    "ExecuteTime": {
     "end_time": "2020-12-22T05:45:41.077612Z",
     "start_time": "2020-12-22T05:45:40.402335Z"
    }
   },
   "outputs": [],
   "source": [
    "import numpy as np\n",
    "import pandas as pd\n",
    "import matplotlib.pyplot as plt\n",
    "plt.style.use('seaborn')"
   ]
  },
  {
   "cell_type": "markdown",
   "metadata": {},
   "source": [
    "# Read Data"
   ]
  },
  {
   "cell_type": "code",
   "execution_count": 2,
   "metadata": {
    "ExecuteTime": {
     "end_time": "2020-12-22T05:45:42.267982Z",
     "start_time": "2020-12-22T05:45:41.196812Z"
    }
   },
   "outputs": [],
   "source": [
    "train = pd.read_csv('my_train.csv')\n",
    "test = pd.read_csv('my_test.csv')"
   ]
  },
  {
   "cell_type": "markdown",
   "metadata": {},
   "source": [
    "## These two sets were created when I was pre-selecting features for regression. There were three types: categorical, numerical and tree specific. However, I will not use tree specific anymore because it did not add value and increases the model complexity significantly."
   ]
  },
  {
   "cell_type": "code",
   "execution_count": 3,
   "metadata": {
    "ExecuteTime": {
     "end_time": "2020-12-22T05:45:42.274928Z",
     "start_time": "2020-12-22T05:45:42.269976Z"
    }
   },
   "outputs": [],
   "source": [
    "numerical = {'CSCOREB','DTI','MATDT','NO_UNITS','NUMBO','OLTV','ORIGRATE','ORIGTERM','ORIGUPB','REMMNTHS'}\n",
    "categorical = 'CHNL_C','CHNL_R','FIRSTFLAG','OCCSTAT_P','OCCSTAT_S','PROP_CP','PROP_MH','PROP_PU','PROP_SF','PURPOSE_P','PURPOSE_R'"
   ]
  },
  {
   "cell_type": "code",
   "execution_count": null,
   "metadata": {},
   "outputs": [],
   "source": []
  },
  {
   "cell_type": "code",
   "execution_count": null,
   "metadata": {},
   "outputs": [],
   "source": []
  },
  {
   "cell_type": "markdown",
   "metadata": {},
   "source": [
    "# Learnt from regression\n",
    "- When I was about to finish regression part, I found that there are many outliers in the data causing my Mean Absolute Error was quite high; but the tuning process took almost 1 day to finish so I do not have enought time to redo it.\n",
    "- For classificiation part, I will filter those outliers"
   ]
  },
  {
   "cell_type": "code",
   "execution_count": 4,
   "metadata": {
    "ExecuteTime": {
     "end_time": "2020-12-22T05:45:43.056377Z",
     "start_time": "2020-12-22T05:45:43.048373Z"
    }
   },
   "outputs": [],
   "source": [
    "percentiles = np.percentile(train['regression'],[25,75])\n",
    "IQR = percentiles[1] - percentiles[0]\n",
    "lower = percentiles[0] - 3*IQR # I used a very extreme case here\n",
    "upper = percentiles[1] + 3*IQR"
   ]
  },
  {
   "cell_type": "markdown",
   "metadata": {},
   "source": [
    "## The lower bound is actually negative so just need to control the upper bound"
   ]
  },
  {
   "cell_type": "code",
   "execution_count": 5,
   "metadata": {
    "ExecuteTime": {
     "end_time": "2020-12-22T05:45:43.718336Z",
     "start_time": "2020-12-22T05:45:43.614055Z"
    }
   },
   "outputs": [],
   "source": [
    "train_filter = train[train['regression'] <= upper].copy()"
   ]
  },
  {
   "cell_type": "markdown",
   "metadata": {},
   "source": [
    "## Although I filtered with respect to NMONTHS, I believe this would also work for our classification"
   ]
  },
  {
   "cell_type": "code",
   "execution_count": null,
   "metadata": {},
   "outputs": [],
   "source": []
  },
  {
   "cell_type": "markdown",
   "metadata": {},
   "source": [
    "## Imbalanced Classes"
   ]
  },
  {
   "cell_type": "code",
   "execution_count": 6,
   "metadata": {
    "ExecuteTime": {
     "end_time": "2020-12-22T05:45:45.064163Z",
     "start_time": "2020-12-22T05:45:44.877585Z"
    }
   },
   "outputs": [
    {
     "data": {
      "text/plain": [
       "<matplotlib.axes._subplots.AxesSubplot at 0x222bb130668>"
      ]
     },
     "execution_count": 6,
     "metadata": {},
     "output_type": "execute_result"
    },
    {
     "data": {
      "image/png": "[encoded data removed]",
      "text/plain": [
       "<Figure size 432x288 with 1 Axes>"
      ]
     },
     "metadata": {
      "needs_background": "light"
     },
     "output_type": "display_data"
    }
   ],
   "source": [
    "train['classfication'].astype(int).hist()"
   ]
  },
  {
   "cell_type": "markdown",
   "metadata": {},
   "source": [
    "- Under-Sampling:\n",
    "    - Advantages: It can help improve run time and storage problems by reducing the number of training data samples when the training data set is huge.\n",
    "    - Disadvantages: It can discard potentially useful information which could be important for building rule classifiers. The sample chosen by random under sampling may be a biased sample. And it will not be an accurate representative of the population. Thereby, resulting in inaccurate results with the actual test data set.\n",
    "\n",
    "- Over-Sampling:\n",
    "    - Advantages: Unlike under sampling this method leads to no information loss. Outperforms under sampling\n",
    "    - Disadvantages: It increases the likelihood of overfitting since it replicates the minority class events.\n",
    "    \n",
    "reference: https://www.analyticsvidhya.com/blog/2017/03/imbalanced-data-classification/"
   ]
  },
  {
   "cell_type": "markdown",
   "metadata": {},
   "source": [
    "### I will use Synthetic Minority Over-Sampling Technique (SMOTE) for Minority Class and Then Under-sampling for Majority Class\n",
    "- Advantages\n",
    "    - Mitigates the problem of overfitting caused by random oversampling as synthetic examples are generated rather than replication of instances\n",
    "    - No loss of useful information\n",
    "- Disadvantages\n",
    "    - While generating synthetic examples SMOTE does not take into consideration neighboring examples from other classes. This can result in increase in overlapping of classes and can introduce additional noise\n",
    "    - SMOTE is not very effective for high dimensional data\n",
    "    \n",
    "reference: https://www.analyticsvidhya.com/blog/2017/03/imbalanced-data-classification/"
   ]
  },
  {
   "cell_type": "code",
   "execution_count": 34,
   "metadata": {
    "ExecuteTime": {
     "end_time": "2020-12-22T06:13:23.079660Z",
     "start_time": "2020-12-22T06:13:23.076667Z"
    }
   },
   "outputs": [],
   "source": [
    "#!pip install imblearn"
   ]
  },
  {
   "cell_type": "code",
   "execution_count": 35,
   "metadata": {
    "ExecuteTime": {
     "end_time": "2020-12-22T06:13:23.362782Z",
     "start_time": "2020-12-22T06:13:23.358791Z"
    }
   },
   "outputs": [],
   "source": [
    "import imblearn\n",
    "from imblearn.over_sampling import SMOTE\n",
    "from imblearn.under_sampling import RandomUnderSampler\n",
    "from imblearn.pipeline import Pipeline"
   ]
  },
  {
   "cell_type": "code",
   "execution_count": 36,
   "metadata": {
    "ExecuteTime": {
     "end_time": "2020-12-22T06:13:23.660782Z",
     "start_time": "2020-12-22T06:13:23.656792Z"
    }
   },
   "outputs": [],
   "source": [
    "over = SMOTE(sampling_strategy=0.2)\n",
    "under = RandomUnderSampler(sampling_strategy=0.5)"
   ]
  },
  {
   "cell_type": "code",
   "execution_count": 37,
   "metadata": {
    "ExecuteTime": {
     "end_time": "2020-12-22T06:13:24.488263Z",
     "start_time": "2020-12-22T06:13:24.037328Z"
    }
   },
   "outputs": [],
   "source": [
    "steps = [('o', over), ('u', under)]\n",
    "pipeline = Pipeline(steps=steps)\n",
    "# transform the dataset\n",
    "X, y = pipeline.fit_resample(train[[*categorical,*numerical]], train['classfication'])"
   ]
  },
  {
   "cell_type": "code",
   "execution_count": 38,
   "metadata": {
    "ExecuteTime": {
     "end_time": "2020-12-22T06:13:29.021149Z",
     "start_time": "2020-12-22T06:13:28.851537Z"
    }
   },
   "outputs": [
    {
     "data": {
      "text/plain": [
       "<matplotlib.axes._subplots.AxesSubplot at 0x222c4972ef0>"
      ]
     },
     "execution_count": 38,
     "metadata": {},
     "output_type": "execute_result"
    },
    {
     "data": {
      "image/png": "[encoded data removed]",
      "text/plain": [
       "<Figure size 432x288 with 1 Axes>"
      ]
     },
     "metadata": {
      "needs_background": "light"
     },
     "output_type": "display_data"
    }
   ],
   "source": [
    "y.astype(int).hist()"
   ]
  },
  {
   "cell_type": "code",
   "execution_count": 40,
   "metadata": {
    "ExecuteTime": {
     "end_time": "2020-12-22T06:14:16.514181Z",
     "start_time": "2020-12-22T06:14:16.498662Z"
    }
   },
   "outputs": [],
   "source": [
    "balanced_data = X.join(y)"
   ]
  },
  {
   "cell_type": "markdown",
   "metadata": {},
   "source": [
    "### Shuffling"
   ]
  },
  {
   "cell_type": "code",
   "execution_count": 42,
   "metadata": {
    "ExecuteTime": {
     "end_time": "2020-12-22T06:14:39.960101Z",
     "start_time": "2020-12-22T06:14:39.918650Z"
    }
   },
   "outputs": [],
   "source": [
    "balanced_data = balanced_data.sample(frac=1,random_state=0)"
   ]
  },
  {
   "cell_type": "markdown",
   "metadata": {},
   "source": [
    "# FORECLOSED"
   ]
  },
  {
   "cell_type": "markdown",
   "metadata": {},
   "source": [
    "- Logistic Regression\n",
    "- Linear Discriminant Analysis\n",
    "- Random Forests\n",
    "- Neural Networks\n",
    "- Best predictor (among the above four models) with Threshold (Probability) Tuning"
   ]
  },
  {
   "cell_type": "markdown",
   "metadata": {},
   "source": [
    "## Summary List"
   ]
  },
  {
   "cell_type": "code",
   "execution_count": 107,
   "metadata": {
    "ExecuteTime": {
     "end_time": "2020-12-22T07:25:43.849837Z",
     "start_time": "2020-12-22T07:25:43.844611Z"
    }
   },
   "outputs": [],
   "source": [
    "Clf_Models = [] #Model Name\n",
    "Clf_Models_Params = [] #Model's best parameters by cross-validation\n",
    "Clf_Models_RA = [] #ROC_AUC by the model with best parameters"
   ]
  },
  {
   "cell_type": "markdown",
   "metadata": {},
   "source": [
    "## I will first find the model with higest ROC_AUC and then look at its FPR and TPR and select the proper probability threshold."
   ]
  },
  {
   "cell_type": "code",
   "execution_count": null,
   "metadata": {},
   "outputs": [],
   "source": []
  },
  {
   "cell_type": "markdown",
   "metadata": {},
   "source": [
    "## Logistic Regression"
   ]
  },
  {
   "cell_type": "code",
   "execution_count": 44,
   "metadata": {
    "ExecuteTime": {
     "end_time": "2020-12-22T06:15:06.683338Z",
     "start_time": "2020-12-22T06:15:06.679382Z"
    }
   },
   "outputs": [],
   "source": [
    "from sklearn.linear_model import LogisticRegression\n",
    "from sklearn.model_selection import GridSearchCV,KFold"
   ]
  },
  {
   "cell_type": "code",
   "execution_count": 45,
   "metadata": {
    "ExecuteTime": {
     "end_time": "2020-12-22T06:15:07.089401Z",
     "start_time": "2020-12-22T06:15:07.084418Z"
    }
   },
   "outputs": [],
   "source": [
    "k_fold = KFold(n_splits=5,shuffle=True, random_state = 0)"
   ]
  },
  {
   "cell_type": "markdown",
   "metadata": {},
   "source": [
    "### For Logistic Regression, I only tuned \"fit_intercept\"."
   ]
  },
  {
   "cell_type": "code",
   "execution_count": 70,
   "metadata": {
    "ExecuteTime": {
     "end_time": "2020-12-22T06:22:50.591722Z",
     "start_time": "2020-12-22T06:22:50.588741Z"
    }
   },
   "outputs": [],
   "source": [
    "from sklearn.metrics import roc_auc_score,make_scorer"
   ]
  },
  {
   "cell_type": "code",
   "execution_count": 104,
   "metadata": {
    "ExecuteTime": {
     "end_time": "2020-12-22T07:24:55.409116Z",
     "start_time": "2020-12-22T07:24:55.403129Z"
    }
   },
   "outputs": [],
   "source": [
    "lr_imbalanced_grid = GridSearchCV(LogisticRegression(solver='newton-cg'),param_grid=dict(fit_intercept = [True,False]),cv = k_fold,\\\n",
    "                       scoring = 'roc_auc')\n",
    "lr_grid = GridSearchCV(LogisticRegression(solver='newton-cg'),param_grid=dict(fit_intercept = [True,False]),cv = k_fold,\\\n",
    "                       scoring = 'roc_auc')"
   ]
  },
  {
   "cell_type": "code",
   "execution_count": 105,
   "metadata": {
    "ExecuteTime": {
     "end_time": "2020-12-22T07:25:28.064039Z",
     "start_time": "2020-12-22T07:24:56.603114Z"
    }
   },
   "outputs": [],
   "source": [
    "# Trained with orginial imbalanced data\n",
    "lr_imbalanced_grid_res = lr_imbalanced_grid.fit(X = train[[*categorical,*numerical]], y = train['classfication'])"
   ]
  },
  {
   "cell_type": "code",
   "execution_count": 106,
   "metadata": {
    "ExecuteTime": {
     "end_time": "2020-12-22T07:25:43.841619Z",
     "start_time": "2020-12-22T07:25:28.066036Z"
    }
   },
   "outputs": [],
   "source": [
    "# Trained with balanced data\n",
    "lr_grid_res = lr_grid.fit(X = balanced_data[[*categorical,*numerical]], y = balanced_data['classfication'])"
   ]
  },
  {
   "cell_type": "markdown",
   "metadata": {},
   "source": [
    "### The model ROC_AUC was improved by only rebalancing the data! I will use balanced data for other models. (from around 0.85 to 0.87)"
   ]
  },
  {
   "cell_type": "code",
   "execution_count": 109,
   "metadata": {
    "ExecuteTime": {
     "end_time": "2020-12-22T07:26:04.852718Z",
     "start_time": "2020-12-22T07:26:04.847724Z"
    }
   },
   "outputs": [
    {
     "data": {
      "text/plain": [
       "0.8660963341897723"
      ]
     },
     "execution_count": 109,
     "metadata": {},
     "output_type": "execute_result"
    }
   ],
   "source": [
    "lr_grid_res.best_score_"
   ]
  },
  {
   "cell_type": "code",
   "execution_count": 110,
   "metadata": {
    "ExecuteTime": {
     "end_time": "2020-12-22T07:26:06.216915Z",
     "start_time": "2020-12-22T07:26:06.212890Z"
    }
   },
   "outputs": [
    {
     "data": {
      "text/plain": [
       "0.8482916950771017"
      ]
     },
     "execution_count": 110,
     "metadata": {},
     "output_type": "execute_result"
    }
   ],
   "source": [
    "lr_imbalanced_grid_res.best_score_"
   ]
  },
  {
   "cell_type": "code",
   "execution_count": null,
   "metadata": {},
   "outputs": [],
   "source": []
  },
  {
   "cell_type": "code",
   "execution_count": 111,
   "metadata": {
    "ExecuteTime": {
     "end_time": "2020-12-22T07:26:09.764618Z",
     "start_time": "2020-12-22T07:26:09.759582Z"
    }
   },
   "outputs": [
    {
     "name": "stdout",
     "output_type": "stream",
     "text": [
      "Best: 0.866096 using {'fit_intercept': True}\n"
     ]
    }
   ],
   "source": [
    "print(\"Best: %f using %s\" % (lr_grid_res.best_score_, lr_grid_res.best_params_))\n",
    "means = lr_grid_res.cv_results_['mean_test_score']\n",
    "stds = lr_grid_res.cv_results_['std_test_score']\n",
    "params = lr_grid_res.cv_results_['params']"
   ]
  },
  {
   "cell_type": "code",
   "execution_count": 112,
   "metadata": {
    "ExecuteTime": {
     "end_time": "2020-12-22T07:26:14.600093Z",
     "start_time": "2020-12-22T07:26:14.595107Z"
    }
   },
   "outputs": [],
   "source": [
    "Clf_Models.append('Logistic Regression')\n",
    "Clf_Models_Params.append(lr_grid_res.best_params_)\n",
    "Clf_Models_RA.append(lr_grid_res.best_score_)"
   ]
  },
  {
   "cell_type": "code",
   "execution_count": null,
   "metadata": {},
   "outputs": [],
   "source": []
  },
  {
   "cell_type": "markdown",
   "metadata": {},
   "source": [
    "## Linear Discriminant Analysis\n",
    "I will tune solver and shrinkage"
   ]
  },
  {
   "cell_type": "code",
   "execution_count": 95,
   "metadata": {
    "ExecuteTime": {
     "end_time": "2020-12-22T06:40:33.077168Z",
     "start_time": "2020-12-22T06:40:33.073179Z"
    }
   },
   "outputs": [],
   "source": [
    "from sklearn.discriminant_analysis import LinearDiscriminantAnalysis"
   ]
  },
  {
   "cell_type": "code",
   "execution_count": 114,
   "metadata": {
    "ExecuteTime": {
     "end_time": "2020-12-22T07:30:54.272355Z",
     "start_time": "2020-12-22T07:30:54.267802Z"
    }
   },
   "outputs": [],
   "source": [
    "shrinks = [None,'auto']\n",
    "solvers = ['svd', 'lsqr', 'eigen']\n",
    "lda_param = dict(solver = solvers,shrinkage = shrinks)"
   ]
  },
  {
   "cell_type": "code",
   "execution_count": 118,
   "metadata": {
    "ExecuteTime": {
     "end_time": "2020-12-22T07:32:18.881015Z",
     "start_time": "2020-12-22T07:32:18.878019Z"
    }
   },
   "outputs": [],
   "source": [
    "lda_grid = GridSearchCV(LinearDiscriminantAnalysis(),param_grid = lda_param, cv = k_fold,\\\n",
    "                       scoring = 'roc_auc')"
   ]
  },
  {
   "cell_type": "code",
   "execution_count": 119,
   "metadata": {
    "ExecuteTime": {
     "end_time": "2020-12-22T07:32:35.238748Z",
     "start_time": "2020-12-22T07:32:24.204937Z"
    }
   },
   "outputs": [
    {
     "name": "stderr",
     "output_type": "stream",
     "text": [
      "C:\\Users\\micha\\Anaconda3\\lib\\site-packages\\sklearn\\model_selection\\_validation.py:552: FitFailedWarning: Estimator fit failed. The score on this train-test partition for these parameters will be set to nan. Details: \n",
      "Traceback (most recent call last):\n",
      "  File \"C:\\Users\\micha\\Anaconda3\\lib\\site-packages\\sklearn\\model_selection\\_validation.py\", line 531, in _fit_and_score\n",
      "    estimator.fit(X_train, y_train, **fit_params)\n",
      "  File \"C:\\Users\\micha\\Anaconda3\\lib\\site-packages\\sklearn\\discriminant_analysis.py\", line 463, in fit\n",
      "    raise NotImplementedError('shrinkage not supported')\n",
      "NotImplementedError: shrinkage not supported\n",
      "\n",
      "  FitFailedWarning)\n",
      "C:\\Users\\micha\\Anaconda3\\lib\\site-packages\\sklearn\\model_selection\\_validation.py:552: FitFailedWarning: Estimator fit failed. The score on this train-test partition for these parameters will be set to nan. Details: \n",
      "Traceback (most recent call last):\n",
      "  File \"C:\\Users\\micha\\Anaconda3\\lib\\site-packages\\sklearn\\model_selection\\_validation.py\", line 531, in _fit_and_score\n",
      "    estimator.fit(X_train, y_train, **fit_params)\n",
      "  File \"C:\\Users\\micha\\Anaconda3\\lib\\site-packages\\sklearn\\discriminant_analysis.py\", line 463, in fit\n",
      "    raise NotImplementedError('shrinkage not supported')\n",
      "NotImplementedError: shrinkage not supported\n",
      "\n",
      "  FitFailedWarning)\n",
      "C:\\Users\\micha\\Anaconda3\\lib\\site-packages\\sklearn\\model_selection\\_validation.py:552: FitFailedWarning: Estimator fit failed. The score on this train-test partition for these parameters will be set to nan. Details: \n",
      "Traceback (most recent call last):\n",
      "  File \"C:\\Users\\micha\\Anaconda3\\lib\\site-packages\\sklearn\\model_selection\\_validation.py\", line 531, in _fit_and_score\n",
      "    estimator.fit(X_train, y_train, **fit_params)\n",
      "  File \"C:\\Users\\micha\\Anaconda3\\lib\\site-packages\\sklearn\\discriminant_analysis.py\", line 463, in fit\n",
      "    raise NotImplementedError('shrinkage not supported')\n",
      "NotImplementedError: shrinkage not supported\n",
      "\n",
      "  FitFailedWarning)\n",
      "C:\\Users\\micha\\Anaconda3\\lib\\site-packages\\sklearn\\model_selection\\_validation.py:552: FitFailedWarning: Estimator fit failed. The score on this train-test partition for these parameters will be set to nan. Details: \n",
      "Traceback (most recent call last):\n",
      "  File \"C:\\Users\\micha\\Anaconda3\\lib\\site-packages\\sklearn\\model_selection\\_validation.py\", line 531, in _fit_and_score\n",
      "    estimator.fit(X_train, y_train, **fit_params)\n",
      "  File \"C:\\Users\\micha\\Anaconda3\\lib\\site-packages\\sklearn\\discriminant_analysis.py\", line 463, in fit\n",
      "    raise NotImplementedError('shrinkage not supported')\n",
      "NotImplementedError: shrinkage not supported\n",
      "\n",
      "  FitFailedWarning)\n",
      "C:\\Users\\micha\\Anaconda3\\lib\\site-packages\\sklearn\\model_selection\\_validation.py:552: FitFailedWarning: Estimator fit failed. The score on this train-test partition for these parameters will be set to nan. Details: \n",
      "Traceback (most recent call last):\n",
      "  File \"C:\\Users\\micha\\Anaconda3\\lib\\site-packages\\sklearn\\model_selection\\_validation.py\", line 531, in _fit_and_score\n",
      "    estimator.fit(X_train, y_train, **fit_params)\n",
      "  File \"C:\\Users\\micha\\Anaconda3\\lib\\site-packages\\sklearn\\discriminant_analysis.py\", line 463, in fit\n",
      "    raise NotImplementedError('shrinkage not supported')\n",
      "NotImplementedError: shrinkage not supported\n",
      "\n",
      "  FitFailedWarning)\n"
     ]
    }
   ],
   "source": [
    "lda_grid_res = lda_grid.fit(X = balanced_data[[*categorical,*numerical]], y = balanced_data['classfication'])"
   ]
  },
  {
   "cell_type": "code",
   "execution_count": 122,
   "metadata": {
    "ExecuteTime": {
     "end_time": "2020-12-22T07:34:02.393425Z",
     "start_time": "2020-12-22T07:34:02.388438Z"
    }
   },
   "outputs": [
    {
     "name": "stdout",
     "output_type": "stream",
     "text": [
      "Best: 0.864167 using {'shrinkage': None, 'solver': 'svd'}\n"
     ]
    }
   ],
   "source": [
    "print(\"Best: %f using %s\" % (lda_grid_res.best_score_, lda_grid_res.best_params_))\n",
    "means = lda_grid_res.cv_results_['mean_test_score']\n",
    "stds = lda_grid_res.cv_results_['std_test_score']\n",
    "params = lda_grid_res.cv_results_['params']"
   ]
  },
  {
   "cell_type": "code",
   "execution_count": 123,
   "metadata": {
    "ExecuteTime": {
     "end_time": "2020-12-22T07:34:37.844672Z",
     "start_time": "2020-12-22T07:34:37.839720Z"
    }
   },
   "outputs": [],
   "source": [
    "Clf_Models.append('Linear Discriminant Analysis')\n",
    "Clf_Models_Params.append(lda_grid_res.best_params_)\n",
    "Clf_Models_RA.append(lda_grid_res.best_score_)"
   ]
  },
  {
   "cell_type": "markdown",
   "metadata": {},
   "source": [
    "### For some hyperparameters of LDA, the algorithm did not converge. Also, the best score is worse than Logistic Regression."
   ]
  },
  {
   "cell_type": "code",
   "execution_count": null,
   "metadata": {},
   "outputs": [],
   "source": []
  },
  {
   "cell_type": "markdown",
   "metadata": {},
   "source": [
    "## Random Forests\n",
    "For Random Forests, I tuned no of trees, no of max_features, no of min_samples_leaf and no of min_samples_split"
   ]
  },
  {
   "cell_type": "code",
   "execution_count": 126,
   "metadata": {
    "ExecuteTime": {
     "end_time": "2020-12-22T07:36:47.108253Z",
     "start_time": "2020-12-22T07:36:47.104264Z"
    }
   },
   "outputs": [],
   "source": [
    "from sklearn.ensemble import RandomForestClassifier"
   ]
  },
  {
   "cell_type": "code",
   "execution_count": 125,
   "metadata": {
    "ExecuteTime": {
     "end_time": "2020-12-22T07:36:24.026240Z",
     "start_time": "2020-12-22T07:36:24.022267Z"
    }
   },
   "outputs": [],
   "source": [
    "rf_n_trees = [20,30,50,100]\n",
    "rf_max_features = ['auto',3,5,8,16]\n",
    "rf_min_samples_leaf =  [2, 5, 10,20,30]\n",
    "rf_min_samples_split = [10,20,50,60,100]"
   ]
  },
  {
   "cell_type": "code",
   "execution_count": 137,
   "metadata": {
    "ExecuteTime": {
     "end_time": "2020-12-22T07:44:51.330206Z",
     "start_time": "2020-12-22T07:44:51.325219Z"
    }
   },
   "outputs": [],
   "source": [
    "rf_param = dict(n_estimators = rf_n_trees,max_features = rf_max_features,min_samples_split = rf_min_samples_split,\n",
    "                  min_samples_leaf = rf_min_samples_leaf )\n",
    "rf_grid = GridSearchCV(RandomForestClassifier(random_state = 0), rf_param, cv = k_fold,\n",
    "                       scoring = 'roc_auc',n_jobs=-1)"
   ]
  },
  {
   "cell_type": "code",
   "execution_count": 138,
   "metadata": {
    "ExecuteTime": {
     "end_time": "2020-12-22T07:45:12.525276Z",
     "start_time": "2020-12-22T07:44:54.266758Z"
    }
   },
   "outputs": [],
   "source": [
    "rf_grid_res = rf_grid.fit(X = balanced_data[[*categorical,*numerical]], y = balanced_data['classfication'])"
   ]
  },
  {
   "cell_type": "code",
   "execution_count": 135,
   "metadata": {
    "ExecuteTime": {
     "end_time": "2020-12-22T07:43:53.550488Z",
     "start_time": "2020-12-22T07:43:53.545469Z"
    }
   },
   "outputs": [
    {
     "name": "stdout",
     "output_type": "stream",
     "text": [
      "Best: 0.985213 using {'max_features': 8, 'min_samples_leaf': 20, 'min_samples_split': 50, 'n_estimators': 50}\n"
     ]
    }
   ],
   "source": [
    "print(\"Best: %f using %s\" % (rf_grid_res.best_score_, rf_grid_res.best_params_))\n",
    "means = rf_grid_res.cv_results_['mean_test_score']\n",
    "stds = rf_grid_res.cv_results_['std_test_score']\n",
    "params = rf_grid_res.cv_results_['params']"
   ]
  },
  {
   "cell_type": "markdown",
   "metadata": {},
   "source": [
    "### The ROC_AUC score is significantly improved by using Random Forest with parameters {'max_features': 8, 'min_samples_leaf': 20, 'min_samples_split': 50, 'n_estimators': 50}"
   ]
  },
  {
   "cell_type": "code",
   "execution_count": 136,
   "metadata": {
    "ExecuteTime": {
     "end_time": "2020-12-22T07:44:34.845001Z",
     "start_time": "2020-12-22T07:44:34.841339Z"
    }
   },
   "outputs": [],
   "source": [
    "Clf_Models.append('Random Forest')\n",
    "Clf_Models_Params.append(rf_grid_res.best_params_)\n",
    "Clf_Models_RA.append(rf_grid_res.best_score_)"
   ]
  },
  {
   "cell_type": "code",
   "execution_count": null,
   "metadata": {},
   "outputs": [],
   "source": []
  },
  {
   "cell_type": "markdown",
   "metadata": {},
   "source": [
    "## Neural Nets\n",
    "I only Tune Batch Size and Number of Epochs due to the complexity (high dimension of hyperparameters) of Neural Nets."
   ]
  },
  {
   "cell_type": "code",
   "execution_count": 146,
   "metadata": {
    "ExecuteTime": {
     "end_time": "2020-12-22T07:52:13.699677Z",
     "start_time": "2020-12-22T07:52:13.696041Z"
    }
   },
   "outputs": [],
   "source": [
    "from keras import Sequential\n",
    "from keras.layers import Dense\n",
    "from keras.wrappers.scikit_learn import KerasClassifier"
   ]
  },
  {
   "cell_type": "code",
   "execution_count": 154,
   "metadata": {
    "ExecuteTime": {
     "end_time": "2020-12-22T07:58:37.391789Z",
     "start_time": "2020-12-22T07:58:37.373690Z"
    }
   },
   "outputs": [],
   "source": [
    "input_no = balanced_data[[*categorical,*numerical]].shape[1]"
   ]
  },
  {
   "cell_type": "code",
   "execution_count": 155,
   "metadata": {
    "ExecuteTime": {
     "end_time": "2020-12-22T07:59:10.415077Z",
     "start_time": "2020-12-22T07:59:10.405873Z"
    }
   },
   "outputs": [],
   "source": [
    "def NN():\n",
    "    # create model\n",
    "    ann = Sequential()\n",
    "    #First Hidden Layer\n",
    "    ann.add(Dense(int(input_no/2), activation='relu', kernel_initializer='random_normal',\\\n",
    "                  input_dim= input_no))\n",
    "    #Second Hidden Layer\n",
    "    ann.add(Dense(int(input_dim/4), activation='relu', kernel_initializer='random_normal'))\n",
    "    #Output Layer\n",
    "    ann.add(Dense(1, activation='sigmoid', kernel_initializer='random_normal'))\n",
    "    \n",
    "    ann.compile(optimizer ='adam',loss='binary_crossentropy',metrics=['accuracy'])\n",
    "\n",
    "    return ann"
   ]
  },
  {
   "cell_type": "code",
   "execution_count": 161,
   "metadata": {
    "ExecuteTime": {
     "end_time": "2020-12-22T08:04:34.402165Z",
     "start_time": "2020-12-22T08:04:34.395901Z"
    }
   },
   "outputs": [],
   "source": [
    "np.random.seed(0)\n",
    "# create model\n",
    "model = KerasClassifier(build_fn=NN, verbose=0)\n",
    "# define the grid search parameters\n",
    "batch_size = [200,500,1000]\n",
    "epochs = [30,50,80]\n",
    "nn_param = dict(batch_size=batch_size, epochs=epochs)\n",
    "nn_grid = GridSearchCV(model, nn_param, cv = k_fold,\n",
    "                       scoring = 'roc_auc',n_jobs=-1)"
   ]
  },
  {
   "cell_type": "code",
   "execution_count": 162,
   "metadata": {
    "ExecuteTime": {
     "end_time": "2020-12-22T08:11:51.997593Z",
     "start_time": "2020-12-22T08:04:34.890331Z"
    }
   },
   "outputs": [
    {
     "name": "stderr",
     "output_type": "stream",
     "text": [
      "C:\\Users\\micha\\Anaconda3\\lib\\site-packages\\joblib\\externals\\loky\\process_executor.py:706: UserWarning: A worker stopped while some jobs were given to the executor. This can be caused by a too short worker timeout or by a memory leak.\n",
      "  \"timeout or by a memory leak.\", UserWarning\n"
     ]
    }
   ],
   "source": [
    "nn_grid_res = nn_grid.fit(X = balanced_data[[*categorical,*numerical]], y = balanced_data['classfication'])"
   ]
  },
  {
   "cell_type": "code",
   "execution_count": 164,
   "metadata": {
    "ExecuteTime": {
     "end_time": "2020-12-22T08:12:03.645054Z",
     "start_time": "2020-12-22T08:12:03.640107Z"
    }
   },
   "outputs": [
    {
     "data": {
      "text/plain": [
       "0.8819471858242949"
      ]
     },
     "execution_count": 164,
     "metadata": {},
     "output_type": "execute_result"
    }
   ],
   "source": [
    "nn_grid_res.best_score_"
   ]
  },
  {
   "cell_type": "markdown",
   "metadata": {},
   "source": [
    "## The main reason Neural Net is not better than Random Forest is that many hyperparameters were not tuned such as optimizer,  Learning Rate, Momentum, even the shape of the Network. I decided to use Random Forest since its ROC_AUC is almost 1 which is good enough so I did not further tune Neural Net."
   ]
  },
  {
   "cell_type": "code",
   "execution_count": 165,
   "metadata": {
    "ExecuteTime": {
     "end_time": "2020-12-22T08:14:07.792274Z",
     "start_time": "2020-12-22T08:14:07.786325Z"
    }
   },
   "outputs": [
    {
     "name": "stdout",
     "output_type": "stream",
     "text": [
      "Best: 0.881947 using {'batch_size': 200, 'epochs': 50}\n"
     ]
    }
   ],
   "source": [
    "print(\"Best: %f using %s\" % (nn_grid_res.best_score_, nn_grid_res.best_params_))\n",
    "means = nn_grid_res.cv_results_['mean_test_score']\n",
    "stds = nn_grid_res.cv_results_['std_test_score']\n",
    "params = nn_grid_res.cv_results_['params']"
   ]
  },
  {
   "cell_type": "code",
   "execution_count": 166,
   "metadata": {
    "ExecuteTime": {
     "end_time": "2020-12-22T08:14:38.568397Z",
     "start_time": "2020-12-22T08:14:38.563410Z"
    }
   },
   "outputs": [],
   "source": [
    "Clf_Models.append('Neural Net')\n",
    "Clf_Models_Params.append(nn_grid_res.best_params_)\n",
    "Clf_Models_RA.append(nn_grid_res.best_score_)"
   ]
  },
  {
   "cell_type": "code",
   "execution_count": null,
   "metadata": {},
   "outputs": [],
   "source": []
  },
  {
   "cell_type": "code",
   "execution_count": 167,
   "metadata": {
    "ExecuteTime": {
     "end_time": "2020-12-22T08:15:34.919440Z",
     "start_time": "2020-12-22T08:15:34.914410Z"
    }
   },
   "outputs": [],
   "source": [
    "Clf_Result = pd.DataFrame(dict(Model = Clf_Models, Parameters = Clf_Models_Params, ROC_AUC = Clf_Models_RA))"
   ]
  },
  {
   "cell_type": "code",
   "execution_count": 168,
   "metadata": {
    "ExecuteTime": {
     "end_time": "2020-12-22T08:15:40.509436Z",
     "start_time": "2020-12-22T08:15:40.494479Z"
    }
   },
   "outputs": [
    {
     "data": {
      "text/html": [
       "<div>\n",
       "<style scoped>\n",
       "    .dataframe tbody tr th:only-of-type {\n",
       "        vertical-align: middle;\n",
       "    }\n",
       "\n",
       "    .dataframe tbody tr th {\n",
       "        vertical-align: top;\n",
       "    }\n",
       "\n",
       "    .dataframe thead th {\n",
       "        text-align: right;\n",
       "    }\n",
       "</style>\n",
       "<table border=\"1\" class=\"dataframe\">\n",
       "  <thead>\n",
       "    <tr style=\"text-align: right;\">\n",
       "      <th></th>\n",
       "      <th>Model</th>\n",
       "      <th>Parameters</th>\n",
       "      <th>ROC_AUC</th>\n",
       "    </tr>\n",
       "  </thead>\n",
       "  <tbody>\n",
       "    <tr>\n",
       "      <th>0</th>\n",
       "      <td>Logistic Regression</td>\n",
       "      <td>{'fit_intercept': True}</td>\n",
       "      <td>0.866096</td>\n",
       "    </tr>\n",
       "    <tr>\n",
       "      <th>1</th>\n",
       "      <td>Linear Discriminant Analysis</td>\n",
       "      <td>{'shrinkage': None, 'solver': 'svd'}</td>\n",
       "      <td>0.864167</td>\n",
       "    </tr>\n",
       "    <tr>\n",
       "      <th>2</th>\n",
       "      <td>Random Forest</td>\n",
       "      <td>{'max_features': 8, 'min_samples_leaf': 20, 'm...</td>\n",
       "      <td>0.985213</td>\n",
       "    </tr>\n",
       "    <tr>\n",
       "      <th>3</th>\n",
       "      <td>Neural Net</td>\n",
       "      <td>{'batch_size': 200, 'epochs': 50}</td>\n",
       "      <td>0.881947</td>\n",
       "    </tr>\n",
       "  </tbody>\n",
       "</table>\n",
       "</div>"
      ],
      "text/plain": [
       "                          Model  \\\n",
       "0           Logistic Regression   \n",
       "1  Linear Discriminant Analysis   \n",
       "2                 Random Forest   \n",
       "3                    Neural Net   \n",
       "\n",
       "                                          Parameters   ROC_AUC  \n",
       "0                            {'fit_intercept': True}  0.866096  \n",
       "1               {'shrinkage': None, 'solver': 'svd'}  0.864167  \n",
       "2  {'max_features': 8, 'min_samples_leaf': 20, 'm...  0.985213  \n",
       "3                  {'batch_size': 200, 'epochs': 50}  0.881947  "
      ]
     },
     "execution_count": 168,
     "metadata": {},
     "output_type": "execute_result"
    }
   ],
   "source": [
    "Clf_Result"
   ]
  },
  {
   "cell_type": "code",
   "execution_count": null,
   "metadata": {},
   "outputs": [],
   "source": []
  },
  {
   "cell_type": "markdown",
   "metadata": {},
   "source": [
    "## Probability Threshold\n",
    "Random Forest was the best predictor so I will use it only for Probability Threshold Tuning (FPR <= 50% while maximizing TPR)"
   ]
  },
  {
   "cell_type": "code",
   "execution_count": 172,
   "metadata": {
    "ExecuteTime": {
     "end_time": "2020-12-22T08:19:46.751934Z",
     "start_time": "2020-12-22T08:19:46.746974Z"
    }
   },
   "outputs": [
    {
     "data": {
      "text/plain": [
       "{'max_features': 8,\n",
       " 'min_samples_leaf': 20,\n",
       " 'min_samples_split': 50,\n",
       " 'n_estimators': 50}"
      ]
     },
     "execution_count": 172,
     "metadata": {},
     "output_type": "execute_result"
    }
   ],
   "source": [
    "Clf_Result.iloc[2,1]"
   ]
  },
  {
   "cell_type": "code",
   "execution_count": 173,
   "metadata": {
    "ExecuteTime": {
     "end_time": "2020-12-22T08:20:36.385547Z",
     "start_time": "2020-12-22T08:20:36.382482Z"
    }
   },
   "outputs": [],
   "source": [
    "rf_best = RandomForestClassifier(n_estimators = 50, max_features = 8, min_samples_leaf = 20, min_samples_split = 50,\\\n",
    "                                random_state = 0)"
   ]
  },
  {
   "cell_type": "code",
   "execution_count": 174,
   "metadata": {
    "ExecuteTime": {
     "end_time": "2020-12-22T08:21:15.779968Z",
     "start_time": "2020-12-22T08:21:05.319558Z"
    }
   },
   "outputs": [],
   "source": [
    "rf_best_res = rf_best.fit(X = balanced_data[[*categorical,*numerical]], y = balanced_data['classfication'])"
   ]
  },
  {
   "cell_type": "code",
   "execution_count": 177,
   "metadata": {
    "ExecuteTime": {
     "end_time": "2020-12-22T08:22:04.668418Z",
     "start_time": "2020-12-22T08:22:04.658470Z"
    }
   },
   "outputs": [],
   "source": [
    "feature_importances = pd.DataFrame(data = rf_best_res.feature_importances_, index = [*categorical,*numerical])"
   ]
  },
  {
   "cell_type": "markdown",
   "metadata": {},
   "source": [
    "### The most important features are quite consistent with regression's result except ordering difference. As I expected, the larger the number of NUMBO, the greater the chance of Forclosed! Indeed, NUMBO is the most important feature. Other features are also reasonable like CSCOREB (people with higher credit score are more likely to pay ealier)."
   ]
  },
  {
   "cell_type": "code",
   "execution_count": 251,
   "metadata": {
    "ExecuteTime": {
     "end_time": "2020-12-22T09:26:24.152335Z",
     "start_time": "2020-12-22T09:26:24.143357Z"
    }
   },
   "outputs": [
    {
     "data": {
      "text/html": [
       "<div>\n",
       "<style scoped>\n",
       "    .dataframe tbody tr th:only-of-type {\n",
       "        vertical-align: middle;\n",
       "    }\n",
       "\n",
       "    .dataframe tbody tr th {\n",
       "        vertical-align: top;\n",
       "    }\n",
       "\n",
       "    .dataframe thead th {\n",
       "        text-align: right;\n",
       "    }\n",
       "</style>\n",
       "<table border=\"1\" class=\"dataframe\">\n",
       "  <thead>\n",
       "    <tr style=\"text-align: right;\">\n",
       "      <th></th>\n",
       "      <th>0</th>\n",
       "    </tr>\n",
       "  </thead>\n",
       "  <tbody>\n",
       "    <tr>\n",
       "      <th>NUMBO</th>\n",
       "      <td>0.303970</td>\n",
       "    </tr>\n",
       "    <tr>\n",
       "      <th>CSCOREB</th>\n",
       "      <td>0.176431</td>\n",
       "    </tr>\n",
       "    <tr>\n",
       "      <th>OLTV</th>\n",
       "      <td>0.136445</td>\n",
       "    </tr>\n",
       "    <tr>\n",
       "      <th>MATDT</th>\n",
       "      <td>0.101499</td>\n",
       "    </tr>\n",
       "    <tr>\n",
       "      <th>REMMNTHS</th>\n",
       "      <td>0.092026</td>\n",
       "    </tr>\n",
       "  </tbody>\n",
       "</table>\n",
       "</div>"
      ],
      "text/plain": [
       "                 0\n",
       "NUMBO     0.303970\n",
       "CSCOREB   0.176431\n",
       "OLTV      0.136445\n",
       "MATDT     0.101499\n",
       "REMMNTHS  0.092026"
      ]
     },
     "execution_count": 251,
     "metadata": {},
     "output_type": "execute_result"
    }
   ],
   "source": [
    "feature_importances.sort_values(0,ascending=False).head()"
   ]
  },
  {
   "cell_type": "markdown",
   "metadata": {},
   "source": [
    "### Get In-Sample Predicted Probabilities"
   ]
  },
  {
   "cell_type": "code",
   "execution_count": 245,
   "metadata": {
    "ExecuteTime": {
     "end_time": "2020-12-22T09:26:08.424064Z",
     "start_time": "2020-12-22T09:26:07.269072Z"
    }
   },
   "outputs": [],
   "source": [
    "predicted_prob = rf_best_res.predict_proba(balanced_data[[*categorical,*numerical]])[:,1]"
   ]
  },
  {
   "cell_type": "markdown",
   "metadata": {},
   "source": [
    "### Get ROC Curve"
   ]
  },
  {
   "cell_type": "code",
   "execution_count": 247,
   "metadata": {
    "ExecuteTime": {
     "end_time": "2020-12-22T09:26:10.383785Z",
     "start_time": "2020-12-22T09:26:10.379797Z"
    }
   },
   "outputs": [],
   "source": [
    "from sklearn.metrics import roc_curve,confusion_matrix"
   ]
  },
  {
   "cell_type": "code",
   "execution_count": 248,
   "metadata": {
    "ExecuteTime": {
     "end_time": "2020-12-22T09:26:10.877442Z",
     "start_time": "2020-12-22T09:26:10.847322Z"
    }
   },
   "outputs": [],
   "source": [
    "fpr, tpr, thresholds = roc_curve(balanced_data['classfication'], predicted_prob)"
   ]
  },
  {
   "cell_type": "code",
   "execution_count": null,
   "metadata": {},
   "outputs": [],
   "source": []
  },
  {
   "cell_type": "markdown",
   "metadata": {},
   "source": [
    "Model achieved almost 1 roc_auc score for In-Sample data."
   ]
  },
  {
   "cell_type": "code",
   "execution_count": 253,
   "metadata": {
    "ExecuteTime": {
     "end_time": "2020-12-22T09:29:25.911807Z",
     "start_time": "2020-12-22T09:29:25.864936Z"
    }
   },
   "outputs": [
    {
     "data": {
      "text/plain": [
       "0.9922510311452016"
      ]
     },
     "execution_count": 253,
     "metadata": {},
     "output_type": "execute_result"
    }
   ],
   "source": [
    "roc_auc_score(balanced_data['classfication'], predicted_prob)"
   ]
  },
  {
   "cell_type": "code",
   "execution_count": 254,
   "metadata": {
    "ExecuteTime": {
     "end_time": "2020-12-22T09:29:33.141837Z",
     "start_time": "2020-12-22T09:29:26.100769Z"
    }
   },
   "outputs": [],
   "source": [
    "tau_list = np.linspace(0,1,101)\n",
    "FPR = []\n",
    "TPR = []\n",
    "for tau in tau_list:\n",
    "    tn, fp, fn, tp = confusion_matrix(y_true = balanced_data['classfication'],\\\n",
    "                                      y_pred= predicted_prob > tau).ravel()\n",
    "    FPR.append(fp/(fp+tn))\n",
    "    TPR.append(tp/(tp+fn))"
   ]
  },
  {
   "cell_type": "code",
   "execution_count": 255,
   "metadata": {
    "ExecuteTime": {
     "end_time": "2020-12-22T09:29:33.149825Z",
     "start_time": "2020-12-22T09:29:33.143801Z"
    }
   },
   "outputs": [],
   "source": [
    "ROC = pd.DataFrame({'Tau': tau_list,'FPR': FPR, 'TPR': TPR})\n",
    "ROC.set_index('Tau',inplace = True)"
   ]
  },
  {
   "cell_type": "markdown",
   "metadata": {},
   "source": [
    "### Only look at ***False Positive Rate*** less or equal to 0.5"
   ]
  },
  {
   "cell_type": "code",
   "execution_count": 256,
   "metadata": {
    "ExecuteTime": {
     "end_time": "2020-12-22T09:29:33.166094Z",
     "start_time": "2020-12-22T09:29:33.152141Z"
    }
   },
   "outputs": [],
   "source": [
    "FPR_under_50 = ROC[ROC['FPR'] <= 0.5].copy()"
   ]
  },
  {
   "cell_type": "code",
   "execution_count": 257,
   "metadata": {
    "ExecuteTime": {
     "end_time": "2020-12-22T09:29:33.179060Z",
     "start_time": "2020-12-22T09:29:33.171078Z"
    }
   },
   "outputs": [],
   "source": [
    "Max_TPR = FPR_under_50[FPR_under_50['TPR'] == FPR_under_50['TPR'].max()].copy()"
   ]
  },
  {
   "cell_type": "code",
   "execution_count": null,
   "metadata": {},
   "outputs": [],
   "source": []
  },
  {
   "cell_type": "markdown",
   "metadata": {},
   "source": [
    "This model has around 48% FPR but with very high TPR"
   ]
  },
  {
   "cell_type": "code",
   "execution_count": 258,
   "metadata": {
    "ExecuteTime": {
     "end_time": "2020-12-22T09:29:33.192021Z",
     "start_time": "2020-12-22T09:29:33.182048Z"
    }
   },
   "outputs": [
    {
     "data": {
      "text/html": [
       "<div>\n",
       "<style scoped>\n",
       "    .dataframe tbody tr th:only-of-type {\n",
       "        vertical-align: middle;\n",
       "    }\n",
       "\n",
       "    .dataframe tbody tr th {\n",
       "        vertical-align: top;\n",
       "    }\n",
       "\n",
       "    .dataframe thead th {\n",
       "        text-align: right;\n",
       "    }\n",
       "</style>\n",
       "<table border=\"1\" class=\"dataframe\">\n",
       "  <thead>\n",
       "    <tr style=\"text-align: right;\">\n",
       "      <th></th>\n",
       "      <th>FPR</th>\n",
       "      <th>TPR</th>\n",
       "    </tr>\n",
       "    <tr>\n",
       "      <th>Tau</th>\n",
       "      <th></th>\n",
       "      <th></th>\n",
       "    </tr>\n",
       "  </thead>\n",
       "  <tbody>\n",
       "    <tr>\n",
       "      <th>0.04</th>\n",
       "      <td>0.482611</td>\n",
       "      <td>0.999848</td>\n",
       "    </tr>\n",
       "  </tbody>\n",
       "</table>\n",
       "</div>"
      ],
      "text/plain": [
       "           FPR       TPR\n",
       "Tau                     \n",
       "0.04  0.482611  0.999848"
      ]
     },
     "execution_count": 258,
     "metadata": {},
     "output_type": "execute_result"
    }
   ],
   "source": [
    "Max_TPR"
   ]
  },
  {
   "cell_type": "code",
   "execution_count": 259,
   "metadata": {
    "ExecuteTime": {
     "end_time": "2020-12-22T09:29:33.208983Z",
     "start_time": "2020-12-22T09:29:33.195015Z"
    }
   },
   "outputs": [
    {
     "data": {
      "text/html": [
       "<div>\n",
       "<style scoped>\n",
       "    .dataframe tbody tr th:only-of-type {\n",
       "        vertical-align: middle;\n",
       "    }\n",
       "\n",
       "    .dataframe tbody tr th {\n",
       "        vertical-align: top;\n",
       "    }\n",
       "\n",
       "    .dataframe thead th {\n",
       "        text-align: right;\n",
       "    }\n",
       "</style>\n",
       "<table border=\"1\" class=\"dataframe\">\n",
       "  <thead>\n",
       "    <tr style=\"text-align: right;\">\n",
       "      <th></th>\n",
       "      <th>FPR</th>\n",
       "      <th>TPR</th>\n",
       "    </tr>\n",
       "    <tr>\n",
       "      <th>Tau</th>\n",
       "      <th></th>\n",
       "      <th></th>\n",
       "    </tr>\n",
       "  </thead>\n",
       "  <tbody>\n",
       "    <tr>\n",
       "      <th>0.04</th>\n",
       "      <td>0.482611</td>\n",
       "      <td>0.999848</td>\n",
       "    </tr>\n",
       "    <tr>\n",
       "      <th>0.05</th>\n",
       "      <td>0.439538</td>\n",
       "      <td>0.999595</td>\n",
       "    </tr>\n",
       "    <tr>\n",
       "      <th>0.06</th>\n",
       "      <td>0.402686</td>\n",
       "      <td>0.999342</td>\n",
       "    </tr>\n",
       "    <tr>\n",
       "      <th>0.07</th>\n",
       "      <td>0.369780</td>\n",
       "      <td>0.998988</td>\n",
       "    </tr>\n",
       "    <tr>\n",
       "      <th>0.08</th>\n",
       "      <td>0.341161</td>\n",
       "      <td>0.998457</td>\n",
       "    </tr>\n",
       "    <tr>\n",
       "      <th>...</th>\n",
       "      <td>...</td>\n",
       "      <td>...</td>\n",
       "    </tr>\n",
       "    <tr>\n",
       "      <th>0.96</th>\n",
       "      <td>0.000013</td>\n",
       "      <td>0.441713</td>\n",
       "    </tr>\n",
       "    <tr>\n",
       "      <th>0.97</th>\n",
       "      <td>0.000000</td>\n",
       "      <td>0.405468</td>\n",
       "    </tr>\n",
       "    <tr>\n",
       "      <th>0.98</th>\n",
       "      <td>0.000000</td>\n",
       "      <td>0.358980</td>\n",
       "    </tr>\n",
       "    <tr>\n",
       "      <th>0.99</th>\n",
       "      <td>0.000000</td>\n",
       "      <td>0.289627</td>\n",
       "    </tr>\n",
       "    <tr>\n",
       "      <th>1.00</th>\n",
       "      <td>0.000000</td>\n",
       "      <td>0.000000</td>\n",
       "    </tr>\n",
       "  </tbody>\n",
       "</table>\n",
       "<p>97 rows × 2 columns</p>\n",
       "</div>"
      ],
      "text/plain": [
       "           FPR       TPR\n",
       "Tau                     \n",
       "0.04  0.482611  0.999848\n",
       "0.05  0.439538  0.999595\n",
       "0.06  0.402686  0.999342\n",
       "0.07  0.369780  0.998988\n",
       "0.08  0.341161  0.998457\n",
       "...        ...       ...\n",
       "0.96  0.000013  0.441713\n",
       "0.97  0.000000  0.405468\n",
       "0.98  0.000000  0.358980\n",
       "0.99  0.000000  0.289627\n",
       "1.00  0.000000  0.000000\n",
       "\n",
       "[97 rows x 2 columns]"
      ]
     },
     "execution_count": 259,
     "metadata": {},
     "output_type": "execute_result"
    }
   ],
   "source": [
    "FPR_under_50.sort_values('TPR',ascending=False)"
   ]
  },
  {
   "cell_type": "markdown",
   "metadata": {},
   "source": [
    "## Summary"
   ]
  },
  {
   "cell_type": "code",
   "execution_count": 260,
   "metadata": {
    "ExecuteTime": {
     "end_time": "2020-12-22T09:29:33.215958Z",
     "start_time": "2020-12-22T09:29:33.211995Z"
    }
   },
   "outputs": [],
   "source": [
    "from sklearn.metrics import accuracy_score"
   ]
  },
  {
   "cell_type": "code",
   "execution_count": 261,
   "metadata": {
    "ExecuteTime": {
     "end_time": "2020-12-22T09:29:33.234908Z",
     "start_time": "2020-12-22T09:29:33.219949Z"
    }
   },
   "outputs": [
    {
     "data": {
      "text/plain": [
       "0.6782085978534874"
      ]
     },
     "execution_count": 261,
     "metadata": {},
     "output_type": "execute_result"
    }
   ],
   "source": [
    "accuracy_score(balanced_data['classfication'],predicted_prob > 0.04)"
   ]
  },
  {
   "cell_type": "code",
   "execution_count": 262,
   "metadata": {
    "ExecuteTime": {
     "end_time": "2020-12-22T09:29:33.290757Z",
     "start_time": "2020-12-22T09:29:33.237898Z"
    }
   },
   "outputs": [
    {
     "data": {
      "text/plain": [
       "0.9922510311452016"
      ]
     },
     "execution_count": 262,
     "metadata": {},
     "output_type": "execute_result"
    }
   ],
   "source": [
    "roc_auc_score(balanced_data['classfication'],predicted_prob)"
   ]
  },
  {
   "cell_type": "markdown",
   "metadata": {},
   "source": [
    "### Although the accuracy of our model is not high, our purpose is to find the model with highest ***True Positive Rate*** while controlling the level of ***False Positive Rate***. Our best model is Random Forest with tuned hyperparameters {'max_features': 8, 'min_samples_leaf': 20, 'min_samples_split': 50, 'n_estimators': 50} and probability threshold as 0.04 (Tau)"
   ]
  },
  {
   "cell_type": "code",
   "execution_count": 263,
   "metadata": {
    "ExecuteTime": {
     "end_time": "2020-12-22T09:29:34.916930Z",
     "start_time": "2020-12-22T09:29:34.905959Z"
    }
   },
   "outputs": [
    {
     "data": {
      "text/html": [
       "<div>\n",
       "<style scoped>\n",
       "    .dataframe tbody tr th:only-of-type {\n",
       "        vertical-align: middle;\n",
       "    }\n",
       "\n",
       "    .dataframe tbody tr th {\n",
       "        vertical-align: top;\n",
       "    }\n",
       "\n",
       "    .dataframe thead th {\n",
       "        text-align: right;\n",
       "    }\n",
       "</style>\n",
       "<table border=\"1\" class=\"dataframe\">\n",
       "  <thead>\n",
       "    <tr style=\"text-align: right;\">\n",
       "      <th></th>\n",
       "      <th>FPR</th>\n",
       "      <th>TPR</th>\n",
       "    </tr>\n",
       "    <tr>\n",
       "      <th>Tau</th>\n",
       "      <th></th>\n",
       "      <th></th>\n",
       "    </tr>\n",
       "  </thead>\n",
       "  <tbody>\n",
       "    <tr>\n",
       "      <th>0.04</th>\n",
       "      <td>0.482611</td>\n",
       "      <td>0.999848</td>\n",
       "    </tr>\n",
       "  </tbody>\n",
       "</table>\n",
       "</div>"
      ],
      "text/plain": [
       "           FPR       TPR\n",
       "Tau                     \n",
       "0.04  0.482611  0.999848"
      ]
     },
     "execution_count": 263,
     "metadata": {},
     "output_type": "execute_result"
    }
   ],
   "source": [
    "Max_TPR"
   ]
  },
  {
   "cell_type": "code",
   "execution_count": 264,
   "metadata": {
    "ExecuteTime": {
     "end_time": "2020-12-22T09:29:35.649920Z",
     "start_time": "2020-12-22T09:29:35.607012Z"
    }
   },
   "outputs": [],
   "source": [
    "predictions = pd.read_csv('Regression_Predictions.csv')"
   ]
  },
  {
   "cell_type": "code",
   "execution_count": 265,
   "metadata": {
    "ExecuteTime": {
     "end_time": "2020-12-22T09:29:36.758341Z",
     "start_time": "2020-12-22T09:29:36.012337Z"
    }
   },
   "outputs": [],
   "source": [
    "predictions['FORCLOSED'] = rf_best_res.predict_proba(test[[*categorical,*numerical]])[:,1] > 0.04"
   ]
  },
  {
   "cell_type": "code",
   "execution_count": 267,
   "metadata": {
    "ExecuteTime": {
     "end_time": "2020-12-22T09:29:54.982557Z",
     "start_time": "2020-12-22T09:29:54.743131Z"
    }
   },
   "outputs": [],
   "source": [
    "predictions.to_csv('predictions.csv')"
   ]
  }
 ],
 "metadata": {
  "kernelspec": {
   "display_name": "Python 3",
   "language": "python",
   "name": "python3"
  },
  "language_info": {
   "codemirror_mode": {
    "name": "ipython",
    "version": 3
   },
   "file_extension": ".py",
   "mimetype": "text/x-python",
   "name": "python",
   "nbconvert_exporter": "python",
   "pygments_lexer": "ipython3",
   "version": "3.7.3"
  },
  "toc": {
   "base_numbering": 1,
   "nav_menu": {},
   "number_sections": true,
   "sideBar": true,
   "skip_h1_title": false,
   "title_cell": "Table of Contents",
   "title_sidebar": "Contents",
   "toc_cell": false,
   "toc_position": {},
   "toc_section_display": true,
   "toc_window_display": false
  }
 },
 "nbformat": 4,
 "nbformat_minor": 2
}
